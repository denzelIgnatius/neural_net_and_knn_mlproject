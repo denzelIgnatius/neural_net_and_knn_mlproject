{
 "cells": [
  {
   "cell_type": "code",
   "execution_count": 1,
   "metadata": {},
   "outputs": [],
   "source": [
    "import numpy as np\n",
    "import pandas as pd\n",
    "import matplotlib.pyplot as plt\n",
    "import seaborn as sns\n",
    "from sklearn.model_selection import train_test_split,KFold \n",
    "from sklearn.metrics import mean_squared_error"
   ]
  },
  {
   "cell_type": "code",
   "execution_count": 2,
   "metadata": {},
   "outputs": [
    {
     "data": {
      "text/plain": [
       "(241600, 18)"
      ]
     },
     "execution_count": 2,
     "metadata": {},
     "output_type": "execute_result"
    }
   ],
   "source": [
    "dataset = pd.read_csv(\"sgemm_product.csv\")\n",
    "dataset.shape"
   ]
  },
  {
   "cell_type": "code",
   "execution_count": 3,
   "metadata": {},
   "outputs": [],
   "source": [
    "dataset['AverageRun'] = dataset[['Run1 (ms)', 'Run2 (ms)', 'Run3 (ms)', 'Run4 (ms)']].mean(axis = 1)"
   ]
  },
  {
   "cell_type": "code",
   "execution_count": 4,
   "metadata": {},
   "outputs": [
    {
     "data": {
      "text/plain": [
       "count    241600.000000\n",
       "mean        217.571953\n",
       "std         368.750161\n",
       "min          13.317500\n",
       "25%          40.667500\n",
       "50%          69.790000\n",
       "75%         228.387500\n",
       "max        3341.507500\n",
       "Name: AverageRun, dtype: float64"
      ]
     },
     "execution_count": 4,
     "metadata": {},
     "output_type": "execute_result"
    }
   ],
   "source": [
    "dataset['AverageRun'].describe()"
   ]
  },
  {
   "cell_type": "code",
   "execution_count": 5,
   "metadata": {},
   "outputs": [],
   "source": [
    "def scale_columns(dataframe):\n",
    "    dfSubmean = dataframe - dataframe.mean()\n",
    "    return dfSubmean / dataframe.std()"
   ]
  },
  {
   "cell_type": "code",
   "execution_count": 6,
   "metadata": {},
   "outputs": [
    {
     "data": {
      "text/html": [
       "<div>\n",
       "<style scoped>\n",
       "    .dataframe tbody tr th:only-of-type {\n",
       "        vertical-align: middle;\n",
       "    }\n",
       "\n",
       "    .dataframe tbody tr th {\n",
       "        vertical-align: top;\n",
       "    }\n",
       "\n",
       "    .dataframe thead th {\n",
       "        text-align: right;\n",
       "    }\n",
       "</style>\n",
       "<table border=\"1\" class=\"dataframe\">\n",
       "  <thead>\n",
       "    <tr style=\"text-align: right;\">\n",
       "      <th></th>\n",
       "      <th>MWG</th>\n",
       "      <th>NWG</th>\n",
       "      <th>KWG</th>\n",
       "      <th>MDIMC</th>\n",
       "      <th>NDIMC</th>\n",
       "      <th>MDIMA</th>\n",
       "      <th>NDIMB</th>\n",
       "      <th>KWI</th>\n",
       "      <th>VWM</th>\n",
       "      <th>VWN</th>\n",
       "      <th>STRM</th>\n",
       "      <th>STRN</th>\n",
       "      <th>SA</th>\n",
       "      <th>SB</th>\n",
       "    </tr>\n",
       "  </thead>\n",
       "  <tbody>\n",
       "    <tr>\n",
       "      <th>0</th>\n",
       "      <td>-1.516754</td>\n",
       "      <td>-1.516754</td>\n",
       "      <td>-1.210995</td>\n",
       "      <td>-0.753892</td>\n",
       "      <td>-0.753892</td>\n",
       "      <td>-0.998052</td>\n",
       "      <td>-0.998052</td>\n",
       "      <td>-0.999998</td>\n",
       "      <td>-0.741447</td>\n",
       "      <td>-0.741447</td>\n",
       "      <td>0</td>\n",
       "      <td>0</td>\n",
       "      <td>0</td>\n",
       "      <td>0</td>\n",
       "    </tr>\n",
       "    <tr>\n",
       "      <th>1</th>\n",
       "      <td>-1.516754</td>\n",
       "      <td>-1.516754</td>\n",
       "      <td>-1.210995</td>\n",
       "      <td>-0.753892</td>\n",
       "      <td>-0.753892</td>\n",
       "      <td>-0.998052</td>\n",
       "      <td>-0.998052</td>\n",
       "      <td>-0.999998</td>\n",
       "      <td>-0.741447</td>\n",
       "      <td>-0.741447</td>\n",
       "      <td>0</td>\n",
       "      <td>0</td>\n",
       "      <td>0</td>\n",
       "      <td>1</td>\n",
       "    </tr>\n",
       "    <tr>\n",
       "      <th>2</th>\n",
       "      <td>-1.516754</td>\n",
       "      <td>-1.516754</td>\n",
       "      <td>-1.210995</td>\n",
       "      <td>-0.753892</td>\n",
       "      <td>-0.753892</td>\n",
       "      <td>-0.998052</td>\n",
       "      <td>-0.998052</td>\n",
       "      <td>-0.999998</td>\n",
       "      <td>-0.741447</td>\n",
       "      <td>-0.741447</td>\n",
       "      <td>0</td>\n",
       "      <td>0</td>\n",
       "      <td>1</td>\n",
       "      <td>0</td>\n",
       "    </tr>\n",
       "    <tr>\n",
       "      <th>3</th>\n",
       "      <td>-1.516754</td>\n",
       "      <td>-1.516754</td>\n",
       "      <td>-1.210995</td>\n",
       "      <td>-0.753892</td>\n",
       "      <td>-0.753892</td>\n",
       "      <td>-0.998052</td>\n",
       "      <td>-0.998052</td>\n",
       "      <td>-0.999998</td>\n",
       "      <td>-0.741447</td>\n",
       "      <td>-0.741447</td>\n",
       "      <td>0</td>\n",
       "      <td>0</td>\n",
       "      <td>1</td>\n",
       "      <td>1</td>\n",
       "    </tr>\n",
       "    <tr>\n",
       "      <th>4</th>\n",
       "      <td>-1.516754</td>\n",
       "      <td>-1.516754</td>\n",
       "      <td>-1.210995</td>\n",
       "      <td>-0.753892</td>\n",
       "      <td>-0.753892</td>\n",
       "      <td>-0.998052</td>\n",
       "      <td>-0.998052</td>\n",
       "      <td>-0.999998</td>\n",
       "      <td>-0.741447</td>\n",
       "      <td>-0.741447</td>\n",
       "      <td>0</td>\n",
       "      <td>1</td>\n",
       "      <td>0</td>\n",
       "      <td>0</td>\n",
       "    </tr>\n",
       "  </tbody>\n",
       "</table>\n",
       "</div>"
      ],
      "text/plain": [
       "        MWG       NWG       KWG     MDIMC     NDIMC     MDIMA     NDIMB  \\\n",
       "0 -1.516754 -1.516754 -1.210995 -0.753892 -0.753892 -0.998052 -0.998052   \n",
       "1 -1.516754 -1.516754 -1.210995 -0.753892 -0.753892 -0.998052 -0.998052   \n",
       "2 -1.516754 -1.516754 -1.210995 -0.753892 -0.753892 -0.998052 -0.998052   \n",
       "3 -1.516754 -1.516754 -1.210995 -0.753892 -0.753892 -0.998052 -0.998052   \n",
       "4 -1.516754 -1.516754 -1.210995 -0.753892 -0.753892 -0.998052 -0.998052   \n",
       "\n",
       "        KWI       VWM       VWN  STRM  STRN  SA  SB  \n",
       "0 -0.999998 -0.741447 -0.741447     0     0   0   0  \n",
       "1 -0.999998 -0.741447 -0.741447     0     0   0   1  \n",
       "2 -0.999998 -0.741447 -0.741447     0     0   1   0  \n",
       "3 -0.999998 -0.741447 -0.741447     0     0   1   1  \n",
       "4 -0.999998 -0.741447 -0.741447     0     1   0   0  "
      ]
     },
     "execution_count": 6,
     "metadata": {},
     "output_type": "execute_result"
    }
   ],
   "source": [
    "x = scale_columns(dataset[['MWG','NWG','KWG','MDIMC','NDIMC','MDIMA','NDIMB','KWI','VWM','VWN']])\n",
    "x[['STRM','STRN','SA','SB']] = dataset[['STRM','STRN','SA','SB']]\n",
    "x.head()"
   ]
  },
  {
   "cell_type": "code",
   "execution_count": 7,
   "metadata": {},
   "outputs": [
    {
     "data": {
      "text/plain": [
       "69.79"
      ]
     },
     "execution_count": 7,
     "metadata": {},
     "output_type": "execute_result"
    }
   ],
   "source": [
    "dataset['AverageRun'].median()"
   ]
  },
  {
   "cell_type": "code",
   "execution_count": 8,
   "metadata": {},
   "outputs": [],
   "source": [
    "def isGreaterThanMedian(x, median):\n",
    "    if x > median:\n",
    "        return 1\n",
    "    return 0"
   ]
  },
  {
   "cell_type": "code",
   "execution_count": 9,
   "metadata": {},
   "outputs": [],
   "source": [
    "median = dataset['AverageRun'].median()\n",
    "target = dataset['AverageRun'].apply(isGreaterThanMedian, args = (median,))"
   ]
  },
  {
   "cell_type": "code",
   "execution_count": 10,
   "metadata": {},
   "outputs": [
    {
     "data": {
      "text/plain": [
       "<matplotlib.axes._subplots.AxesSubplot at 0x209ae4ea7b8>"
      ]
     },
     "execution_count": 10,
     "metadata": {},
     "output_type": "execute_result"
    },
    {
     "data": {
      "image/png": "[encoded data removed]",
      "text/plain": [
       "<Figure size 432x288 with 1 Axes>"
      ]
     },
     "metadata": {
      "needs_background": "light"
     },
     "output_type": "display_data"
    }
   ],
   "source": [
    "sns.distplot(target)"
   ]
  },
  {
   "cell_type": "code",
   "execution_count": 11,
   "metadata": {},
   "outputs": [
    {
     "name": "stderr",
     "output_type": "stream",
     "text": [
      "Using TensorFlow backend.\n"
     ]
    },
    {
     "data": {
      "text/plain": [
       "(241600, 2)"
      ]
     },
     "execution_count": 11,
     "metadata": {},
     "output_type": "execute_result"
    }
   ],
   "source": [
    "from keras.utils import to_categorical\n",
    "y = np.array(target)\n",
    "y = to_categorical(y)\n",
    "y.shape"
   ]
  },
  {
   "cell_type": "code",
   "execution_count": 12,
   "metadata": {},
   "outputs": [
    {
     "data": {
      "text/plain": [
       "array([[-1.51675411, -1.51675411, -1.21099469, ...,  0.        ,\n",
       "         0.        ,  0.        ],\n",
       "       [-1.51675411, -1.51675411, -1.21099469, ...,  0.        ,\n",
       "         0.        ,  1.        ],\n",
       "       [-1.51675411, -1.51675411, -1.21099469, ...,  0.        ,\n",
       "         1.        ,  0.        ],\n",
       "       ...,\n",
       "       [ 1.12044995,  1.12044995,  0.82576403, ...,  1.        ,\n",
       "         0.        ,  1.        ],\n",
       "       [ 1.12044995,  1.12044995,  0.82576403, ...,  1.        ,\n",
       "         1.        ,  0.        ],\n",
       "       [ 1.12044995,  1.12044995,  0.82576403, ...,  1.        ,\n",
       "         1.        ,  1.        ]])"
      ]
     },
     "execution_count": 12,
     "metadata": {},
     "output_type": "execute_result"
    }
   ],
   "source": [
    "x = np.array(x)\n",
    "x"
   ]
  },
  {
   "cell_type": "code",
   "execution_count": 13,
   "metadata": {},
   "outputs": [
    {
     "name": "stdout",
     "output_type": "stream",
     "text": [
      "WARNING:tensorflow:From C:\\Users\\denze\\Anaconda3\\lib\\site-packages\\tensorflow_core\\python\\ops\\resource_variable_ops.py:1630: calling BaseResourceVariable.__init__ (from tensorflow.python.ops.resource_variable_ops) with constraint is deprecated and will be removed in a future version.\n",
      "Instructions for updating:\n",
      "If using Keras pass *_constraint arguments to layers.\n"
     ]
    }
   ],
   "source": [
    "from keras.models import Sequential\n",
    "from keras.layers import Dense, Activation,Flatten\n",
    "model = Sequential()\n",
    "model.add(Dense(128, activation='sigmoid'))\n",
    "model.add(Dense(2, activation='sigmoid'))\n",
    "model.compile(optimizer='SGD',\n",
    "              loss='binary_crossentropy',\n",
    "              metrics=['acc'])"
   ]
  },
  {
   "cell_type": "code",
   "execution_count": 14,
   "metadata": {},
   "outputs": [
    {
     "name": "stdout",
     "output_type": "stream",
     "text": [
      "WARNING:tensorflow:From C:\\Users\\denze\\Anaconda3\\lib\\site-packages\\tensorflow_core\\python\\ops\\nn_impl.py:183: where (from tensorflow.python.ops.array_ops) is deprecated and will be removed in a future version.\n",
      "Instructions for updating:\n",
      "Use tf.where in 2.0, which has the same broadcast rule as np.where\n",
      "WARNING:tensorflow:From C:\\Users\\denze\\Anaconda3\\lib\\site-packages\\keras\\backend\\tensorflow_backend.py:422: The name tf.global_variables is deprecated. Please use tf.compat.v1.global_variables instead.\n",
      "\n",
      "Epoch 1/2\n",
      "2416/2416 [==============================] - 0s 68us/step - loss: 0.6974 - acc: 0.5263\n",
      "Epoch 2/2\n",
      "2416/2416 [==============================] - 0s 12us/step - loss: 0.6890 - acc: 0.5393\n",
      "2416/2416 [==============================] - 0s 15us/step\n",
      "239184/239184 [==============================] - 1s 5us/step\n",
      "Epoch 1/2\n",
      "24160/24160 [==============================] - 0s 12us/step - loss: 0.6786 - acc: 0.5956\n",
      "Epoch 2/2\n",
      "24160/24160 [==============================] - 0s 15us/step - loss: 0.6645 - acc: 0.6673\n",
      "24160/24160 [==============================] - 0s 6us/step\n",
      "217440/217440 [==============================] - 1s 6us/step\n",
      "Epoch 1/2\n",
      "48320/48320 [==============================] - 1s 13us/step - loss: 0.6448 - acc: 0.7253\n",
      "Epoch 2/2\n",
      "48320/48320 [==============================] - 1s 12us/step - loss: 0.6204 - acc: 0.7619\n",
      "48320/48320 [==============================] - 0s 5us/step\n",
      "193280/193280 [==============================] - 1s 6us/step\n",
      "Epoch 1/2\n",
      "72480/72480 [==============================] - 1s 11us/step - loss: 0.5929 - acc: 0.7766\n",
      "Epoch 2/2\n",
      "72480/72480 [==============================] - 1s 11us/step - loss: 0.5648 - acc: 0.7881\n",
      "72480/72480 [==============================] - 0s 5us/step\n",
      "169120/169120 [==============================] - 1s 6us/step\n",
      "Epoch 1/2\n",
      "96640/96640 [==============================] - 1s 11us/step - loss: 0.5392 - acc: 0.7972\n",
      "Epoch 2/2\n",
      "96640/96640 [==============================] - 1s 11us/step - loss: 0.5182 - acc: 0.8053\n",
      "96640/96640 [==============================] - 1s 6us/step\n",
      "144960/144960 [==============================] - 1s 5us/step\n",
      "Epoch 1/2\n",
      "144960/144960 [==============================] - 2s 11us/step - loss: 0.5001 - acc: 0.8129\n",
      "Epoch 2/2\n",
      "144960/144960 [==============================] - 2s 11us/step - loss: 0.4868 - acc: 0.8185\n",
      "144960/144960 [==============================] - 1s 6us/step\n",
      "96640/96640 [==============================] - 1s 7us/step\n",
      "Epoch 1/2\n",
      "169120/169120 [==============================] - 2s 11us/step - loss: 0.4787 - acc: 0.8204\n",
      "Epoch 2/2\n",
      "169120/169120 [==============================] - 2s 11us/step - loss: 0.4730 - acc: 0.8209\n",
      "169120/169120 [==============================] - 1s 5us/step\n",
      "72480/72480 [==============================] - 0s 6us/step\n"
     ]
    }
   ],
   "source": [
    "test_size_list = [0.99,0.90,0.8,0.7,0.6,0.4,0.3]\n",
    "training_set_size=[]\n",
    "train_acc=[]\n",
    "test_acc=[]\n",
    "for test_size in test_size_list:\n",
    "    x_train, x_test, y_train, y_test = train_test_split(x, y, test_size= test_size, random_state=123)\n",
    "    model.fit(x_train,y_train,epochs=2,batch_size=128)\n",
    "    train_acc.append(model.evaluate(x_train,y_train,batch_size=128)[1])\n",
    "    test_acc.append(model.evaluate(x_test,y_test,batch_size=128)[1])\n",
    "    training_set_size.append(len(x_train))"
   ]
  },
  {
   "cell_type": "code",
   "execution_count": 15,
   "metadata": {},
   "outputs": [
    {
     "data": {
      "image/png": "[encoded data removed]",
      "text/plain": [
       "<Figure size 576x432 with 1 Axes>"
      ]
     },
     "metadata": {
      "needs_background": "light"
     },
     "output_type": "display_data"
    }
   ],
   "source": [
    "import matplotlib.patches as mpatches\n",
    "plt.figure(figsize=(8,6))\n",
    "plt.style.use('seaborn')\n",
    "plt.plot(training_set_size, train_acc, color = \"blue\") \n",
    "plt.plot(training_set_size, test_acc, color = \"green\") \n",
    "plt.xlabel(\"Training Set\") \n",
    "plt.ylabel(\"Accuracy\")\n",
    "trainlegend = mpatches.Patch(color='blue', label='Train Accuracy')\n",
    "testlegend = mpatches.Patch(color='green', label='Test Accuracy')\n",
    "plt.legend([trainlegend, testlegend], ['Train Accuracy', 'Test Accuracy'])\n",
    "plt.show() "
   ]
  },
  {
   "cell_type": "code",
   "execution_count": 16,
   "metadata": {},
   "outputs": [
    {
     "name": "stdout",
     "output_type": "stream",
     "text": [
      "Epoch 1/2\n",
      "173952/173952 [==============================] - 2s 12us/step - loss: 0.4696 - acc: 0.8201\n",
      "Epoch 2/2\n",
      "173952/173952 [==============================] - 2s 12us/step - loss: 0.4669 - acc: 0.8197\n",
      "43488/43488 [==============================] - 0s 7us/step\n",
      "Epoch 1/2\n",
      "173952/173952 [==============================] - 2s 11us/step - loss: 0.4657 - acc: 0.8186\n",
      "Epoch 2/2\n",
      "173952/173952 [==============================] - 2s 13us/step - loss: 0.4639 - acc: 0.8181\n",
      "43488/43488 [==============================] - 0s 6us/step\n",
      "Epoch 1/2\n",
      "173952/173952 [==============================] - 2s 12us/step - loss: 0.4630 - acc: 0.8170\n",
      "Epoch 2/2\n",
      "173952/173952 [==============================] - 2s 11us/step - loss: 0.4611 - acc: 0.8168\n",
      "43488/43488 [==============================] - 0s 5us/step\n",
      "Epoch 1/2\n",
      "173952/173952 [==============================] - 2s 11us/step - loss: 0.4587 - acc: 0.8171\n",
      "Epoch 2/2\n",
      "173952/173952 [==============================] - 2s 10us/step - loss: 0.4563 - acc: 0.8172\n",
      "43488/43488 [==============================] - 0s 5us/step\n",
      "Epoch 1/2\n",
      "173952/173952 [==============================] - 2s 11us/step - loss: 0.4534 - acc: 0.8181\n",
      "Epoch 2/2\n",
      "173952/173952 [==============================] - 2s 10us/step - loss: 0.4505 - acc: 0.8187\n",
      "43488/43488 [==============================] - 0s 6us/step\n",
      "The accuracy of the neural net with sigmoid activation function is 81.88%\n"
     ]
    }
   ],
   "source": [
    "X_train, X_test, y_train, y_test = train_test_split(x, y, test_size= 0.1, random_state=123)\n",
    "val_acc = []\n",
    "kf = KFold(n_splits=5)\n",
    "for train_index, val_index in kf.split(X_train):\n",
    "    model.fit(X_train[train_index], y_train[train_index],epochs=2,batch_size=128)\n",
    "    val_acc.append(model.evaluate(X_train[val_index],y_train[val_index],batch_size=128)[1])\n",
    "accuracy = sum(val_acc)/len(val_acc)*100\n",
    "print(\"The accuracy of the neural net with sigmoid activation function is {0:.2f}%\".format(accuracy))"
   ]
  },
  {
   "cell_type": "code",
   "execution_count": 17,
   "metadata": {},
   "outputs": [],
   "source": [
    "from keras.models import Sequential\n",
    "from keras.layers import Dense, Activation,Flatten\n",
    "model = Sequential()\n",
    "model.add(Dense(128, activation='tanh'))\n",
    "model.add(Dense(2, activation='tanh'))\n",
    "model.compile(optimizer='SGD',\n",
    "              loss='binary_crossentropy',\n",
    "              metrics=['acc'])"
   ]
  },
  {
   "cell_type": "code",
   "execution_count": 18,
   "metadata": {},
   "outputs": [
    {
     "name": "stdout",
     "output_type": "stream",
     "text": [
      "Epoch 1/2\n",
      "2416/2416 [==============================] - 0s 53us/step - loss: 2.2759 - acc: 0.5019\n",
      "Epoch 2/2\n",
      "2416/2416 [==============================] - 0s 12us/step - loss: 1.1940 - acc: 0.5944\n",
      "2416/2416 [==============================] - 0s 19us/step\n",
      "239184/239184 [==============================] - 1s 6us/step\n",
      "Epoch 1/2\n",
      "24160/24160 [==============================] - 0s 11us/step - loss: 1.2480 - acc: 0.6620\n",
      "Epoch 2/2\n",
      "24160/24160 [==============================] - 0s 11us/step - loss: 4.0151 - acc: 0.5423\n",
      "24160/24160 [==============================] - 0s 5us/step\n",
      "217440/217440 [==============================] - 1s 5us/step\n",
      "Epoch 1/2\n",
      "48320/48320 [==============================] - 1s 11us/step - loss: 3.4460 - acc: 0.5428\n",
      "Epoch 2/2\n",
      "48320/48320 [==============================] - 0s 10us/step - loss: 2.9611 - acc: 0.5611\n",
      "48320/48320 [==============================] - 0s 5us/step\n",
      "193280/193280 [==============================] - 1s 5us/step\n",
      "Epoch 1/2\n",
      "72480/72480 [==============================] - 1s 11us/step - loss: 2.7480 - acc: 0.5500\n",
      "Epoch 2/2\n",
      "72480/72480 [==============================] - 1s 11us/step - loss: 2.4590 - acc: 0.5348\n",
      "72480/72480 [==============================] - 0s 5us/step\n",
      "169120/169120 [==============================] - 1s 5us/step\n",
      "Epoch 1/2\n",
      "96640/96640 [==============================] - 1s 12us/step - loss: 3.3903 - acc: 0.4401\n",
      "Epoch 2/2\n",
      "96640/96640 [==============================] - 1s 11us/step - loss: 3.9767 - acc: 0.3437\n",
      "96640/96640 [==============================] - 0s 5us/step\n",
      "144960/144960 [==============================] - 1s 5us/step\n",
      "Epoch 1/2\n",
      "144960/144960 [==============================] - 2s 11us/step - loss: 3.5319 - acc: 0.4116\n",
      "Epoch 2/2\n",
      "144960/144960 [==============================] - 2s 12us/step - loss: 3.8737 - acc: 0.3985\n",
      "144960/144960 [==============================] - 1s 4us/step\n",
      "96640/96640 [==============================] - 0s 5us/step\n",
      "Epoch 1/2\n",
      "169120/169120 [==============================] - 2s 11us/step - loss: 7.2110 - acc: 0.3875\n",
      "Epoch 2/2\n",
      "169120/169120 [==============================] - 3s 16us/step - loss: 6.6138 - acc: 0.3635\n",
      "169120/169120 [==============================] - 2s 11us/step\n",
      "72480/72480 [==============================] - 1s 7us/step\n"
     ]
    }
   ],
   "source": [
    "test_size_list = [0.99,0.90,0.8,0.7,0.6,0.4,0.3]\n",
    "training_set_size=[]\n",
    "train_acc=[]\n",
    "test_acc=[]\n",
    "for test_size in test_size_list:\n",
    "    x_train, x_test, y_train, y_test = train_test_split(x, y, test_size= test_size, random_state=123)\n",
    "    model.fit(x_train,y_train,epochs=2,batch_size=128)\n",
    "    train_acc.append(model.evaluate(x_train,y_train,batch_size=128)[1])\n",
    "    test_acc.append(model.evaluate(x_test,y_test,batch_size=128)[1])\n",
    "    training_set_size.append(len(x_train))"
   ]
  },
  {
   "cell_type": "code",
   "execution_count": 19,
   "metadata": {},
   "outputs": [
    {
     "data": {
      "image/png": "[encoded data removed]",
      "text/plain": [
       "<Figure size 576x432 with 1 Axes>"
      ]
     },
     "metadata": {},
     "output_type": "display_data"
    }
   ],
   "source": [
    "plt.figure(figsize=(8,6))\n",
    "plt.style.use('seaborn')\n",
    "plt.plot(training_set_size, train_acc, color = \"blue\") \n",
    "plt.plot(training_set_size, test_acc, color = \"green\") \n",
    "plt.xlabel(\"Training Set\") \n",
    "plt.ylabel(\"Accuracy\")\n",
    "trainlegend = mpatches.Patch(color='blue', label='Train Accuracy')\n",
    "testlegend = mpatches.Patch(color='green', label='Test Accuracy')\n",
    "plt.legend([trainlegend, testlegend], ['Train Accuracy', 'Test Accuracy'])\n",
    "plt.show() "
   ]
  },
  {
   "cell_type": "code",
   "execution_count": 20,
   "metadata": {},
   "outputs": [
    {
     "name": "stdout",
     "output_type": "stream",
     "text": [
      "Epoch 1/2\n",
      "173952/173952 [==============================] - 2s 14us/step - loss: 7.4682 - acc: 0.3782\n",
      "Epoch 2/2\n",
      "173952/173952 [==============================] - 2s 12us/step - loss: 7.2861 - acc: 0.3603\n",
      "43488/43488 [==============================] - 0s 5us/step\n",
      "Epoch 1/2\n",
      "173952/173952 [==============================] - 2s 12us/step - loss: 7.0685 - acc: 0.3418\n",
      "Epoch 2/2\n",
      "173952/173952 [==============================] - 2s 12us/step - loss: 6.8245 - acc: 0.3270\n",
      "43488/43488 [==============================] - 0s 5us/step\n",
      "Epoch 1/2\n",
      "173952/173952 [==============================] - 2s 10us/step - loss: 6.5170 - acc: 0.3252\n",
      "Epoch 2/2\n",
      "173952/173952 [==============================] - 2s 12us/step - loss: 6.2107 - acc: 0.3333\n",
      "43488/43488 [==============================] - 0s 8us/step\n",
      "Epoch 1/2\n",
      "173952/173952 [==============================] - 2s 11us/step - loss: 5.9947 - acc: 0.3235\n",
      "Epoch 2/2\n",
      "173952/173952 [==============================] - 2s 10us/step - loss: 5.7525 - acc: 0.3216\n",
      "43488/43488 [==============================] - 0s 5us/step\n",
      "Epoch 1/2\n",
      "173952/173952 [==============================] - 2s 9us/step - loss: 5.4821 - acc: 0.3213\n",
      "Epoch 2/2\n",
      "173952/173952 [==============================] - 2s 10us/step - loss: 5.1858 - acc: 0.3174\n",
      "43488/43488 [==============================] - 0s 4us/step\n",
      "The accuracy of the neural net with Tanh activation function is 33.00%\n"
     ]
    }
   ],
   "source": [
    "X_train, X_test, y_train, y_test = train_test_split(x, y, test_size= 0.1, random_state=123)\n",
    "val_acc = []\n",
    "kf = KFold(n_splits=5)\n",
    "for train_index, val_index in kf.split(X_train):\n",
    "    model.fit(X_train[train_index], y_train[train_index],epochs=2,batch_size=128)\n",
    "    val_acc.append(model.evaluate(X_train[val_index],y_train[val_index],batch_size=128)[1])\n",
    "accuracy = sum(val_acc)/len(val_acc)*100\n",
    "print(\"The accuracy of the neural net with Tanh activation function is {0:.2f}%\".format(accuracy))"
   ]
  },
  {
   "cell_type": "code",
   "execution_count": 21,
   "metadata": {},
   "outputs": [],
   "source": [
    "from keras.models import Sequential\n",
    "from keras.layers import Dense, Activation,Flatten\n",
    "model = Sequential()\n",
    "model.add(Dense(128, activation='relu'))\n",
    "model.add(Dense(2, activation='relu'))\n",
    "model.compile(optimizer='SGD',\n",
    "              loss='binary_crossentropy',\n",
    "              metrics=['acc'])"
   ]
  },
  {
   "cell_type": "code",
   "execution_count": 22,
   "metadata": {},
   "outputs": [
    {
     "name": "stdout",
     "output_type": "stream",
     "text": [
      "Epoch 1/2\n",
      "2416/2416 [==============================] - 0s 39us/step - loss: 1.4898 - acc: 0.5639\n",
      "Epoch 2/2\n",
      "2416/2416 [==============================] - 0s 9us/step - loss: 2.9072 - acc: 0.5275\n",
      "2416/2416 [==============================] - 0s 20us/step\n",
      "239184/239184 [==============================] - 1s 5us/step\n",
      "Epoch 1/2\n",
      "24160/24160 [==============================] - 0s 9us/step - loss: 7.4029 - acc: 0.4310\n",
      "Epoch 2/2\n",
      "24160/24160 [==============================] - 0s 11us/step - loss: 7.4336 - acc: 0.4251\n",
      "24160/24160 [==============================] - 0s 4us/step\n",
      "217440/217440 [==============================] - 1s 4us/step\n",
      "Epoch 1/2\n",
      "48320/48320 [==============================] - 0s 10us/step - loss: 7.7507 - acc: 0.3057\n",
      "Epoch 2/2\n",
      "48320/48320 [==============================] - 0s 9us/step - loss: 7.8056 - acc: 0.3071\n",
      "48320/48320 [==============================] - 0s 5us/step\n",
      "193280/193280 [==============================] - 1s 5us/step\n",
      "Epoch 1/2\n",
      "72480/72480 [==============================] - 1s 9us/step - loss: 7.8553 - acc: 0.3052\n",
      "Epoch 2/2\n",
      "72480/72480 [==============================] - 1s 10us/step - loss: 7.8526 - acc: 0.3053: 0s - loss: 7.8672 - acc: 0\n",
      "72480/72480 [==============================] - 0s 5us/step\n",
      "169120/169120 [==============================] - 1s 5us/step\n",
      "Epoch 1/2\n",
      "96640/96640 [==============================] - 1s 11us/step - loss: 7.8437 - acc: 0.3059\n",
      "Epoch 2/2\n",
      "96640/96640 [==============================] - 1s 11us/step - loss: 7.7940 - acc: 0.3829\n",
      "96640/96640 [==============================] - 1s 5us/step\n",
      "144960/144960 [==============================] - 1s 5us/step\n",
      "Epoch 1/2\n",
      "144960/144960 [==============================] - 1s 10us/step - loss: 7.7125 - acc: 0.5000\n",
      "Epoch 2/2\n",
      "144960/144960 [==============================] - 1s 10us/step - loss: 7.7125 - acc: 0.5000\n",
      "144960/144960 [==============================] - 1s 5us/step\n",
      "96640/96640 [==============================] - 0s 5us/step\n",
      "Epoch 1/2\n",
      "169120/169120 [==============================] - 2s 13us/step - loss: 7.7125 - acc: 0.5000\n",
      "Epoch 2/2\n",
      "169120/169120 [==============================] - 2s 9us/step - loss: 7.7125 - acc: 0.5000\n",
      "169120/169120 [==============================] - 1s 5us/step\n",
      "72480/72480 [==============================] - 0s 4us/step\n"
     ]
    }
   ],
   "source": [
    "test_size_list = [0.99,0.90,0.8,0.7,0.6,0.4,0.3]\n",
    "training_set_size=[]\n",
    "train_acc=[]\n",
    "test_acc=[]\n",
    "for test_size in test_size_list:\n",
    "    x_train, x_test, y_train, y_test = train_test_split(x, y, test_size= test_size, random_state=123)\n",
    "    model.fit(x_train,y_train,epochs=2,batch_size=128)\n",
    "    train_acc.append(model.evaluate(x_train,y_train,batch_size=128)[1])\n",
    "    test_acc.append(model.evaluate(x_test,y_test,batch_size=128)[1])\n",
    "    training_set_size.append(len(x_train))"
   ]
  },
  {
   "cell_type": "code",
   "execution_count": 23,
   "metadata": {},
   "outputs": [
    {
     "data": {
      "image/png": "[encoded data removed]",
      "text/plain": [
       "<Figure size 576x432 with 1 Axes>"
      ]
     },
     "metadata": {},
     "output_type": "display_data"
    }
   ],
   "source": [
    "plt.figure(figsize=(8,6))\n",
    "plt.style.use('seaborn')\n",
    "plt.plot(training_set_size, train_acc, color = \"blue\") \n",
    "plt.plot(training_set_size, test_acc, color = \"green\") \n",
    "plt.xlabel(\"Training Set\") \n",
    "plt.ylabel(\"Accuracy\")\n",
    "trainlegend = mpatches.Patch(color='blue', label='Train Accuracy')\n",
    "testlegend = mpatches.Patch(color='green', label='Test Accuracy')\n",
    "plt.legend([trainlegend, testlegend], ['Train Accuracy', 'Test Accuracy'])\n",
    "plt.show() "
   ]
  },
  {
   "cell_type": "code",
   "execution_count": 24,
   "metadata": {},
   "outputs": [
    {
     "name": "stdout",
     "output_type": "stream",
     "text": [
      "Epoch 1/2\n",
      "173952/173952 [==============================] - 2s 10us/step - loss: 7.7125 - acc: 0.5000\n",
      "Epoch 2/2\n",
      "173952/173952 [==============================] - 2s 9us/step - loss: 7.7125 - acc: 0.5000\n",
      "43488/43488 [==============================] - 0s 5us/step\n",
      "Epoch 1/2\n",
      "173952/173952 [==============================] - 2s 9us/step - loss: 7.7125 - acc: 0.5000\n",
      "Epoch 2/2\n",
      "173952/173952 [==============================] - 2s 10us/step - loss: 7.7125 - acc: 0.5000\n",
      "43488/43488 [==============================] - 0s 5us/step\n",
      "Epoch 1/2\n",
      "173952/173952 [==============================] - 2s 10us/step - loss: 7.7125 - acc: 0.5000\n",
      "Epoch 2/2\n",
      "173952/173952 [==============================] - 2s 10us/step - loss: 7.7125 - acc: 0.5000\n",
      "43488/43488 [==============================] - 0s 5us/step\n",
      "Epoch 1/2\n",
      "173952/173952 [==============================] - 2s 10us/step - loss: 7.7125 - acc: 0.5000\n",
      "Epoch 2/2\n",
      "173952/173952 [==============================] - 2s 11us/step - loss: 7.7125 - acc: 0.5000\n",
      "43488/43488 [==============================] - 0s 6us/step\n",
      "Epoch 1/2\n",
      "173952/173952 [==============================] - 2s 11us/step - loss: 7.7125 - acc: 0.5000\n",
      "Epoch 2/2\n",
      "173952/173952 [==============================] - 2s 11us/step - loss: 7.7125 - acc: 0.5000\n",
      "43488/43488 [==============================] - 0s 5us/step\n",
      "The accuracy of the neural net with Relu activation function is 50.00%\n"
     ]
    }
   ],
   "source": [
    "X_train, X_test, y_train, y_test = train_test_split(x, y, test_size= 0.1, random_state=123)\n",
    "val_acc = []\n",
    "kf = KFold(n_splits=5)\n",
    "for train_index, val_index in kf.split(X_train):\n",
    "    model.fit(X_train[train_index], y_train[train_index],epochs=2,batch_size=128)\n",
    "    val_acc.append(model.evaluate(X_train[val_index],y_train[val_index],batch_size=128)[1])\n",
    "accuracy = sum(val_acc)/len(val_acc)*100\n",
    "print(\"The accuracy of the neural net with Relu activation function is {0:.2f}%\".format(accuracy))"
   ]
  },
  {
   "cell_type": "code",
   "execution_count": 25,
   "metadata": {},
   "outputs": [
    {
     "name": "stdout",
     "output_type": "stream",
     "text": [
      "Epoch 1/2\n",
      "169120/169120 [==============================] - 5s 30us/step - loss: 0.6340 - acc: 0.6629\n",
      "Epoch 2/2\n",
      "169120/169120 [==============================] - 5s 29us/step - loss: 0.4833 - acc: 0.8179\n",
      "169120/169120 [==============================] - 2s 15us/step\n",
      "72480/72480 [==============================] - 1s 15us/step\n",
      "Epoch 1/2\n",
      "169120/169120 [==============================] - 6s 34us/step - loss: 0.6060 - acc: 0.8042\n",
      "Epoch 2/2\n",
      "169120/169120 [==============================] - 6s 37us/step - loss: 0.4320 - acc: 0.8438\n",
      "169120/169120 [==============================] - 3s 16us/step\n",
      "72480/72480 [==============================] - 1s 17us/step\n",
      "Epoch 1/2\n",
      "169120/169120 [==============================] - 6s 37us/step - loss: 0.6061 - acc: 0.8015\n",
      "Epoch 2/2\n",
      "169120/169120 [==============================] - 6s 36us/step - loss: 0.4014 - acc: 0.8529\n",
      "169120/169120 [==============================] - 3s 19us/step\n",
      "72480/72480 [==============================] - 1s 19us/step\n",
      "Epoch 1/2\n",
      "169120/169120 [==============================] - 7s 41us/step - loss: 0.5526 - acc: 0.8438\n",
      "Epoch 2/2\n",
      "169120/169120 [==============================] - 7s 39us/step - loss: 0.3724 - acc: 0.8599\n",
      "169120/169120 [==============================] - 3s 19us/step\n",
      "72480/72480 [==============================] - 1s 18us/step\n",
      "Epoch 1/2\n",
      "169120/169120 [==============================] - 7s 44us/step - loss: 0.5353 - acc: 0.8374\n",
      "Epoch 2/2\n",
      "169120/169120 [==============================] - 8s 49us/step - loss: 0.3654 - acc: 0.8656\n",
      "169120/169120 [==============================] - 4s 23us/step\n",
      "72480/72480 [==============================] - 2s 24us/step\n",
      "Epoch 1/2\n",
      "169120/169120 [==============================] - 9s 55us/step - loss: 0.5326 - acc: 0.8424\n",
      "Epoch 2/2\n",
      "169120/169120 [==============================] - 12s 69us/step - loss: 0.3575 - acc: 0.8722\n",
      "169120/169120 [==============================] - 7s 39us/step\n",
      "72480/72480 [==============================] - 2s 32us/step\n"
     ]
    }
   ],
   "source": [
    "x_train, x_test, y_train, y_test = train_test_split(x, y, test_size= 0.3, random_state=123)\n",
    "nodes_list=[8,16,32,64,128,256]\n",
    "train_acc = []\n",
    "test_acc = []\n",
    "model = Sequential()\n",
    "for i in nodes_list:\n",
    "    model.add(Dense(i, activation='sigmoid'))\n",
    "    model.add(Dense(2, activation='sigmoid'))\n",
    "    model.compile(optimizer='SGD', loss='binary_crossentropy', metrics=['acc'])\n",
    "    model.fit(x_train,y_train,epochs=2)\n",
    "    train_acc.append(model.evaluate(x_train,y_train)[1])\n",
    "    test_acc.append(model.evaluate(x_test,y_test)[1])"
   ]
  },
  {
   "cell_type": "code",
   "execution_count": 26,
   "metadata": {},
   "outputs": [
    {
     "data": {
      "image/png": "[encoded data removed]",
      "text/plain": [
       "<Figure size 576x432 with 1 Axes>"
      ]
     },
     "metadata": {},
     "output_type": "display_data"
    }
   ],
   "source": [
    "plt.figure(figsize=(8,6))\n",
    "plt.style.use('seaborn')\n",
    "plt.plot(nodes_list, train_acc, color = \"blue\") \n",
    "plt.plot(nodes_list, test_acc, color = \"green\") \n",
    "plt.xlabel(\"Number of nodes\") \n",
    "plt.ylabel(\"Accuracy\")\n",
    "trainlegend = mpatches.Patch(color='blue', label='Train Accuracy')\n",
    "testlegend = mpatches.Patch(color='green', label='Test Accuracy')\n",
    "plt.legend([trainlegend, testlegend], ['Train Accuracy', 'Test Accuracy'])\n",
    "plt.show() "
   ]
  },
  {
   "cell_type": "code",
   "execution_count": 27,
   "metadata": {},
   "outputs": [
    {
     "name": "stdout",
     "output_type": "stream",
     "text": [
      "Epoch 1/2\n",
      "169120/169120 [==============================] - 6s 36us/step - loss: 0.5577 - acc: 0.7760\n",
      "Epoch 2/2\n",
      "169120/169120 [==============================] - 6s 34us/step - loss: 0.4754 - acc: 0.8207\n",
      "169120/169120 [==============================] - 3s 19us/step\n",
      "72480/72480 [==============================] - 2s 22us/step\n",
      "Epoch 1/2\n",
      "169120/169120 [==============================] - 8s 48us/step - loss: 0.6475 - acc: 0.7144\n",
      "Epoch 2/2\n",
      "169120/169120 [==============================] - 8s 47us/step - loss: 0.5060 - acc: 0.8074\n",
      "169120/169120 [==============================] - 5s 29us/step\n",
      "72480/72480 [==============================] - 2s 21us/step\n",
      "Epoch 1/2\n",
      "169120/169120 [==============================] - 9s 51us/step - loss: 0.6914 - acc: 0.5310\n",
      "Epoch 2/2\n",
      "169120/169120 [==============================] - 8s 49us/step - loss: 0.6820 - acc: 0.6391\n",
      "169120/169120 [==============================] - 4s 22us/step\n",
      "72480/72480 [==============================] - 2s 25us/step\n",
      "Epoch 1/2\n",
      "169120/169120 [==============================] - 11s 64us/step - loss: 0.6938 - acc: 0.5004\n",
      "Epoch 2/2\n",
      "169120/169120 [==============================] - 10s 61us/step - loss: 0.6934 - acc: 0.5025\n",
      "169120/169120 [==============================] - 5s 28us/step\n",
      "72480/72480 [==============================] - 2s 28us/step\n",
      "Epoch 1/2\n",
      "169120/169120 [==============================] - 12s 68us/step - loss: 0.6935 - acc: 0.5008\n",
      "Epoch 2/2\n",
      "169120/169120 [==============================] - 12s 69us/step - loss: 0.6935 - acc: 0.5004\n",
      "169120/169120 [==============================] - 5s 27us/step\n",
      "72480/72480 [==============================] - 2s 27us/step\n"
     ]
    }
   ],
   "source": [
    "x_train, x_test, y_train, y_test = train_test_split(x, y, test_size= 0.3, random_state=123)\n",
    "layers_list=[1,2,3,4,5]\n",
    "train_acc = []\n",
    "test_acc = []\n",
    "for i in layers_list:\n",
    "    model = Sequential()\n",
    "    for l in range(i):\n",
    "        model.add(Dense(128, activation='sigmoid'))\n",
    "    model.add(Dense(2, activation='sigmoid'))\n",
    "    model.compile(optimizer='SGD', loss='binary_crossentropy', metrics=['acc'])\n",
    "    model.fit(x_train,y_train,epochs=2)\n",
    "    train_acc.append(model.evaluate(x_train,y_train)[1])\n",
    "    test_acc.append(model.evaluate(x_test,y_test)[1])"
   ]
  },
  {
   "cell_type": "code",
   "execution_count": 28,
   "metadata": {},
   "outputs": [
    {
     "data": {
      "image/png": "[encoded data removed]",
      "text/plain": [
       "<Figure size 576x432 with 1 Axes>"
      ]
     },
     "metadata": {},
     "output_type": "display_data"
    }
   ],
   "source": [
    "plt.figure(figsize=(8,6))\n",
    "plt.style.use('seaborn')\n",
    "plt.plot(layers_list, train_acc, color = \"blue\") \n",
    "plt.plot(layers_list, test_acc, color = \"green\") \n",
    "plt.xlabel(\"Number of hidden layers\") \n",
    "plt.ylabel(\"Accuracy\")\n",
    "trainlegend = mpatches.Patch(color='blue', label='Train Accuracy')\n",
    "testlegend = mpatches.Patch(color='green', label='Test Accuracy')\n",
    "plt.legend([trainlegend, testlegend], ['Train Accuracy', 'Test Accuracy'])\n",
    "plt.show() "
   ]
  },
  {
   "cell_type": "code",
   "execution_count": 29,
   "metadata": {},
   "outputs": [],
   "source": [
    "from sklearn.neighbors import KNeighborsClassifier\n",
    "\n",
    "x_train, x_test, y_train, y_test = train_test_split(x, y, test_size= 0.3, random_state=123)\n",
    "neighbours_list=[1,3,5,7,10,15,17,20,22,25,27,30]\n",
    "train_acc = []\n",
    "test_acc = []\n",
    "for i in neighbours_list:\n",
    "    knnmodel = KNeighborsClassifier(n_neighbors=i)\n",
    "    knnmodel.fit(x_train,y_train)\n",
    "    train_acc.append(knnmodel.score(x_train,y_train))\n",
    "    test_acc.append(knnmodel.score(x_test,y_test))"
   ]
  },
  {
   "cell_type": "code",
   "execution_count": 30,
   "metadata": {},
   "outputs": [
    {
     "data": {
      "image/png": "[encoded data removed]",
      "text/plain": [
       "<Figure size 576x432 with 1 Axes>"
      ]
     },
     "metadata": {},
     "output_type": "display_data"
    }
   ],
   "source": [
    "plt.figure(figsize=(8,6))\n",
    "plt.style.use('seaborn')\n",
    "plt.plot(neighbours_list, train_acc, color = \"blue\") \n",
    "plt.plot(neighbours_list, test_acc, color = \"green\") \n",
    "plt.xlabel(\"Number nearest neighbours\") \n",
    "plt.ylabel(\"Accuracy\")\n",
    "trainlegend = mpatches.Patch(color='blue', label='Train Accuracy')\n",
    "testlegend = mpatches.Patch(color='green', label='Test Accuracy')\n",
    "plt.legend([trainlegend, testlegend], ['Train Accuracy', 'Test Accuracy'])\n",
    "plt.show() "
   ]
  },
  {
   "cell_type": "code",
   "execution_count": 31,
   "metadata": {},
   "outputs": [
    {
     "name": "stdout",
     "output_type": "stream",
     "text": [
      "The accuracy of the KNN is 91.41%\n"
     ]
    }
   ],
   "source": [
    "X_train, X_test, y_train, y_test = train_test_split(x, y, test_size= 0.1, random_state=123)\n",
    "val_acc = []\n",
    "kf = KFold(n_splits=5)\n",
    "knnmodel = KNeighborsClassifier(n_neighbors=25)\n",
    "for train_index, val_index in kf.split(X_train):\n",
    "    knnmodel.fit(X_train[train_index], y_train[train_index])\n",
    "    val_acc.append(knnmodel.score(X_train[val_index],y_train[val_index]))\n",
    "accuracy = sum(val_acc)/len(val_acc)*100\n",
    "print(\"The accuracy of the KNN is {0:.2f}%\".format(accuracy))"
   ]
  },
  {
   "cell_type": "code",
   "execution_count": null,
   "metadata": {},
   "outputs": [],
   "source": []
  }
 ],
 "metadata": {
  "kernelspec": {
   "display_name": "Python 3",
   "language": "python",
   "name": "python3"
  },
  "language_info": {
   "codemirror_mode": {
    "name": "ipython",
    "version": 3
   },
   "file_extension": ".py",
   "mimetype": "text/x-python",
   "name": "python",
   "nbconvert_exporter": "python",
   "pygments_lexer": "ipython3",
   "version": "3.7.3"
  }
 },
 "nbformat": 4,
 "nbformat_minor": 2
}
