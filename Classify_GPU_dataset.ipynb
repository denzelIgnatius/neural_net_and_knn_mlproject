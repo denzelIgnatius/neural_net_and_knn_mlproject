{
 "cells": [
  {
   "cell_type": "code",
   "execution_count": 257,
   "metadata": {},
   "outputs": [],
   "source": [
    "import numpy as np\n",
    "import pandas as pd\n",
    "import matplotlib.pyplot as plt\n",
    "import seaborn as sns\n",
    "from sklearn.model_selection import train_test_split,KFold \n",
    "from sklearn.metrics import mean_squared_error"
   ]
  },
  {
   "cell_type": "code",
   "execution_count": 247,
   "metadata": {},
   "outputs": [
    {
     "data": {
      "text/plain": [
       "(241600, 18)"
      ]
     },
     "execution_count": 247,
     "metadata": {},
     "output_type": "execute_result"
    }
   ],
   "source": [
    "dataset = pd.read_csv(\"sgemm_product.csv\")\n",
    "dataset.shape"
   ]
  },
  {
   "cell_type": "code",
   "execution_count": 249,
   "metadata": {},
   "outputs": [],
   "source": [
    "dataset['AverageRun'] = dataset[['Run1 (ms)', 'Run2 (ms)', 'Run3 (ms)', 'Run4 (ms)']].mean(axis = 1)"
   ]
  },
  {
   "cell_type": "code",
   "execution_count": 250,
   "metadata": {},
   "outputs": [
    {
     "data": {
      "text/plain": [
       "count    241600.000000\n",
       "mean        217.571953\n",
       "std         368.750161\n",
       "min          13.317500\n",
       "25%          40.667500\n",
       "50%          69.790000\n",
       "75%         228.387500\n",
       "max        3341.507500\n",
       "Name: AverageRun, dtype: float64"
      ]
     },
     "execution_count": 250,
     "metadata": {},
     "output_type": "execute_result"
    }
   ],
   "source": [
    "dataset['AverageRun'].describe()"
   ]
  },
  {
   "cell_type": "code",
   "execution_count": 251,
   "metadata": {},
   "outputs": [],
   "source": [
    "def scale_columns(dataframe):\n",
    "    dfSubmean = dataframe - dataframe.mean()\n",
    "    return dfSubmean / dataframe.std()"
   ]
  },
  {
   "cell_type": "code",
   "execution_count": 252,
   "metadata": {},
   "outputs": [
    {
     "data": {
      "text/html": [
       "<div>\n",
       "<style scoped>\n",
       "    .dataframe tbody tr th:only-of-type {\n",
       "        vertical-align: middle;\n",
       "    }\n",
       "\n",
       "    .dataframe tbody tr th {\n",
       "        vertical-align: top;\n",
       "    }\n",
       "\n",
       "    .dataframe thead th {\n",
       "        text-align: right;\n",
       "    }\n",
       "</style>\n",
       "<table border=\"1\" class=\"dataframe\">\n",
       "  <thead>\n",
       "    <tr style=\"text-align: right;\">\n",
       "      <th></th>\n",
       "      <th>MWG</th>\n",
       "      <th>NWG</th>\n",
       "      <th>KWG</th>\n",
       "      <th>MDIMC</th>\n",
       "      <th>NDIMC</th>\n",
       "      <th>MDIMA</th>\n",
       "      <th>NDIMB</th>\n",
       "      <th>KWI</th>\n",
       "      <th>VWM</th>\n",
       "      <th>VWN</th>\n",
       "      <th>STRM</th>\n",
       "      <th>STRN</th>\n",
       "      <th>SA</th>\n",
       "      <th>SB</th>\n",
       "    </tr>\n",
       "  </thead>\n",
       "  <tbody>\n",
       "    <tr>\n",
       "      <th>0</th>\n",
       "      <td>-1.516754</td>\n",
       "      <td>-1.516754</td>\n",
       "      <td>-1.210995</td>\n",
       "      <td>-0.753892</td>\n",
       "      <td>-0.753892</td>\n",
       "      <td>-0.998052</td>\n",
       "      <td>-0.998052</td>\n",
       "      <td>-0.999998</td>\n",
       "      <td>-0.741447</td>\n",
       "      <td>-0.741447</td>\n",
       "      <td>0</td>\n",
       "      <td>0</td>\n",
       "      <td>0</td>\n",
       "      <td>0</td>\n",
       "    </tr>\n",
       "    <tr>\n",
       "      <th>1</th>\n",
       "      <td>-1.516754</td>\n",
       "      <td>-1.516754</td>\n",
       "      <td>-1.210995</td>\n",
       "      <td>-0.753892</td>\n",
       "      <td>-0.753892</td>\n",
       "      <td>-0.998052</td>\n",
       "      <td>-0.998052</td>\n",
       "      <td>-0.999998</td>\n",
       "      <td>-0.741447</td>\n",
       "      <td>-0.741447</td>\n",
       "      <td>0</td>\n",
       "      <td>0</td>\n",
       "      <td>0</td>\n",
       "      <td>1</td>\n",
       "    </tr>\n",
       "    <tr>\n",
       "      <th>2</th>\n",
       "      <td>-1.516754</td>\n",
       "      <td>-1.516754</td>\n",
       "      <td>-1.210995</td>\n",
       "      <td>-0.753892</td>\n",
       "      <td>-0.753892</td>\n",
       "      <td>-0.998052</td>\n",
       "      <td>-0.998052</td>\n",
       "      <td>-0.999998</td>\n",
       "      <td>-0.741447</td>\n",
       "      <td>-0.741447</td>\n",
       "      <td>0</td>\n",
       "      <td>0</td>\n",
       "      <td>1</td>\n",
       "      <td>0</td>\n",
       "    </tr>\n",
       "    <tr>\n",
       "      <th>3</th>\n",
       "      <td>-1.516754</td>\n",
       "      <td>-1.516754</td>\n",
       "      <td>-1.210995</td>\n",
       "      <td>-0.753892</td>\n",
       "      <td>-0.753892</td>\n",
       "      <td>-0.998052</td>\n",
       "      <td>-0.998052</td>\n",
       "      <td>-0.999998</td>\n",
       "      <td>-0.741447</td>\n",
       "      <td>-0.741447</td>\n",
       "      <td>0</td>\n",
       "      <td>0</td>\n",
       "      <td>1</td>\n",
       "      <td>1</td>\n",
       "    </tr>\n",
       "    <tr>\n",
       "      <th>4</th>\n",
       "      <td>-1.516754</td>\n",
       "      <td>-1.516754</td>\n",
       "      <td>-1.210995</td>\n",
       "      <td>-0.753892</td>\n",
       "      <td>-0.753892</td>\n",
       "      <td>-0.998052</td>\n",
       "      <td>-0.998052</td>\n",
       "      <td>-0.999998</td>\n",
       "      <td>-0.741447</td>\n",
       "      <td>-0.741447</td>\n",
       "      <td>0</td>\n",
       "      <td>1</td>\n",
       "      <td>0</td>\n",
       "      <td>0</td>\n",
       "    </tr>\n",
       "  </tbody>\n",
       "</table>\n",
       "</div>"
      ],
      "text/plain": [
       "        MWG       NWG       KWG     MDIMC     NDIMC     MDIMA     NDIMB  \\\n",
       "0 -1.516754 -1.516754 -1.210995 -0.753892 -0.753892 -0.998052 -0.998052   \n",
       "1 -1.516754 -1.516754 -1.210995 -0.753892 -0.753892 -0.998052 -0.998052   \n",
       "2 -1.516754 -1.516754 -1.210995 -0.753892 -0.753892 -0.998052 -0.998052   \n",
       "3 -1.516754 -1.516754 -1.210995 -0.753892 -0.753892 -0.998052 -0.998052   \n",
       "4 -1.516754 -1.516754 -1.210995 -0.753892 -0.753892 -0.998052 -0.998052   \n",
       "\n",
       "        KWI       VWM       VWN  STRM  STRN  SA  SB  \n",
       "0 -0.999998 -0.741447 -0.741447     0     0   0   0  \n",
       "1 -0.999998 -0.741447 -0.741447     0     0   0   1  \n",
       "2 -0.999998 -0.741447 -0.741447     0     0   1   0  \n",
       "3 -0.999998 -0.741447 -0.741447     0     0   1   1  \n",
       "4 -0.999998 -0.741447 -0.741447     0     1   0   0  "
      ]
     },
     "execution_count": 252,
     "metadata": {},
     "output_type": "execute_result"
    }
   ],
   "source": [
    "x = scale_columns(dataset[['MWG','NWG','KWG','MDIMC','NDIMC','MDIMA','NDIMB','KWI','VWM','VWN']])\n",
    "x[['STRM','STRN','SA','SB']] = dataset[['STRM','STRN','SA','SB']]\n",
    "x.head()"
   ]
  },
  {
   "cell_type": "code",
   "execution_count": 253,
   "metadata": {},
   "outputs": [
    {
     "data": {
      "text/plain": [
       "69.79"
      ]
     },
     "execution_count": 253,
     "metadata": {},
     "output_type": "execute_result"
    }
   ],
   "source": [
    "dataset['AverageRun'].median()"
   ]
  },
  {
   "cell_type": "code",
   "execution_count": 254,
   "metadata": {},
   "outputs": [],
   "source": [
    "def isGreaterThanMedian(x, median):\n",
    "    if x > median:\n",
    "        return 1\n",
    "    return 0"
   ]
  },
  {
   "cell_type": "code",
   "execution_count": 255,
   "metadata": {},
   "outputs": [],
   "source": [
    "median = dataset['AverageRun'].median()\n",
    "target = dataset['AverageRun'].apply(isGreaterThanMedian, args = (median,))"
   ]
  },
  {
   "cell_type": "code",
   "execution_count": 258,
   "metadata": {},
   "outputs": [
    {
     "data": {
      "text/plain": [
       "<matplotlib.axes._subplots.AxesSubplot at 0x20a18c42ef0>"
      ]
     },
     "execution_count": 258,
     "metadata": {},
     "output_type": "execute_result"
    },
    {
     "data": {
      "image/png": "[encoded data removed]",
      "text/plain": [
       "<Figure size 576x396 with 1 Axes>"
      ]
     },
     "metadata": {},
     "output_type": "display_data"
    }
   ],
   "source": [
    "sns.distplot(target)"
   ]
  },
  {
   "cell_type": "code",
   "execution_count": 259,
   "metadata": {},
   "outputs": [
    {
     "data": {
      "text/plain": [
       "(241600, 2)"
      ]
     },
     "execution_count": 259,
     "metadata": {},
     "output_type": "execute_result"
    }
   ],
   "source": [
    "from keras.utils import to_categorical\n",
    "y = np.array(target)\n",
    "y = to_categorical(y)\n",
    "y.shape"
   ]
  },
  {
   "cell_type": "code",
   "execution_count": 260,
   "metadata": {},
   "outputs": [
    {
     "data": {
      "text/plain": [
       "array([[-1.51675411, -1.51675411, -1.21099469, ...,  0.        ,\n",
       "         0.        ,  0.        ],\n",
       "       [-1.51675411, -1.51675411, -1.21099469, ...,  0.        ,\n",
       "         0.        ,  1.        ],\n",
       "       [-1.51675411, -1.51675411, -1.21099469, ...,  0.        ,\n",
       "         1.        ,  0.        ],\n",
       "       ...,\n",
       "       [ 1.12044995,  1.12044995,  0.82576403, ...,  1.        ,\n",
       "         0.        ,  1.        ],\n",
       "       [ 1.12044995,  1.12044995,  0.82576403, ...,  1.        ,\n",
       "         1.        ,  0.        ],\n",
       "       [ 1.12044995,  1.12044995,  0.82576403, ...,  1.        ,\n",
       "         1.        ,  1.        ]])"
      ]
     },
     "execution_count": 260,
     "metadata": {},
     "output_type": "execute_result"
    }
   ],
   "source": [
    "x = np.array(x)\n",
    "x"
   ]
  },
  {
   "cell_type": "code",
   "execution_count": 261,
   "metadata": {},
   "outputs": [],
   "source": [
    "from keras.models import Sequential\n",
    "from keras.layers import Dense, Activation,Flatten\n",
    "model = Sequential()\n",
    "model.add(Dense(128, activation='sigmoid'))\n",
    "model.add(Dense(2, activation='sigmoid'))\n",
    "model.compile(optimizer='SGD',\n",
    "              loss='binary_crossentropy',\n",
    "              metrics=['acc'])"
   ]
  },
  {
   "cell_type": "code",
   "execution_count": 262,
   "metadata": {},
   "outputs": [
    {
     "name": "stdout",
     "output_type": "stream",
     "text": [
      "Epoch 1/5\n",
      "2416/2416 [==============================] - 1s 239us/step - loss: 0.7083 - acc: 0.5168\n",
      "Epoch 2/5\n",
      "2416/2416 [==============================] - 0s 30us/step - loss: 0.7005 - acc: 0.5068\n",
      "Epoch 3/5\n",
      "2416/2416 [==============================] - 0s 30us/step - loss: 0.6976 - acc: 0.4967\n",
      "Epoch 4/5\n",
      "2416/2416 [==============================] - 0s 30us/step - loss: 0.6956 - acc: 0.5035\n",
      "Epoch 5/5\n",
      "2416/2416 [==============================] - 0s 30us/step - loss: 0.6938 - acc: 0.5085\n",
      "2416/2416 [==============================] - 0s 205us/step\n",
      "239184/239184 [==============================] - 4s 16us/step\n",
      "Epoch 1/5\n",
      "24160/24160 [==============================] - 1s 24us/step - loss: 0.6847 - acc: 0.5726\n",
      "Epoch 2/5\n",
      "24160/24160 [==============================] - 1s 24us/step - loss: 0.6692 - acc: 0.6569\n",
      "Epoch 3/5\n",
      "24160/24160 [==============================] - 1s 23us/step - loss: 0.6550 - acc: 0.7216\n",
      "Epoch 4/5\n",
      "24160/24160 [==============================] - 1s 24us/step - loss: 0.6417 - acc: 0.7588\n",
      "Epoch 5/5\n",
      "24160/24160 [==============================] - 1s 24us/step - loss: 0.6289 - acc: 0.7773\n",
      "24160/24160 [==============================] - 0s 18us/step\n",
      "217440/217440 [==============================] - 3s 16us/step\n",
      "Epoch 1/5\n",
      "48320/48320 [==============================] - 1s 24us/step - loss: 0.6104 - acc: 0.7891\n",
      "Epoch 2/5\n",
      "48320/48320 [==============================] - 1s 24us/step - loss: 0.5883 - acc: 0.7976\n",
      "Epoch 3/5\n",
      "48320/48320 [==============================] - 1s 24us/step - loss: 0.5689 - acc: 0.8020\n",
      "Epoch 4/5\n",
      "48320/48320 [==============================] - 1s 24us/step - loss: 0.5522 - acc: 0.8060\n",
      "Epoch 5/5\n",
      "48320/48320 [==============================] - 1s 24us/step - loss: 0.5384 - acc: 0.8080\n",
      "48320/48320 [==============================] - 1s 16us/step\n",
      "193280/193280 [==============================] - 3s 16us/step\n",
      "Epoch 1/5\n",
      "72480/72480 [==============================] - 2s 28us/step - loss: 0.5241 - acc: 0.8125\n",
      "Epoch 2/5\n",
      "72480/72480 [==============================] - 2s 26us/step - loss: 0.5112 - acc: 0.8153\n",
      "Epoch 3/5\n",
      "72480/72480 [==============================] - 2s 25us/step - loss: 0.5016 - acc: 0.8187\n",
      "Epoch 4/5\n",
      "72480/72480 [==============================] - 2s 25us/step - loss: 0.4943 - acc: 0.8205\n",
      "Epoch 5/5\n",
      "72480/72480 [==============================] - 2s 25us/step - loss: 0.4886 - acc: 0.8215\n",
      "72480/72480 [==============================] - 1s 16us/step\n",
      "169120/169120 [==============================] - 3s 16us/step\n",
      "Epoch 1/5\n",
      "96640/96640 [==============================] - 2s 24us/step - loss: 0.4833 - acc: 0.8235\n",
      "Epoch 2/5\n",
      "96640/96640 [==============================] - 2s 24us/step - loss: 0.4790 - acc: 0.8236\n",
      "Epoch 3/5\n",
      "96640/96640 [==============================] - 2s 23us/step - loss: 0.4759 - acc: 0.8236\n",
      "Epoch 4/5\n",
      "96640/96640 [==============================] - 2s 24us/step - loss: 0.4735 - acc: 0.8228\n",
      "Epoch 5/5\n",
      "96640/96640 [==============================] - 2s 24us/step - loss: 0.4717 - acc: 0.8223\n",
      "96640/96640 [==============================] - 2s 16us/step\n",
      "144960/144960 [==============================] - 2s 16us/step\n",
      "Epoch 1/5\n",
      "144960/144960 [==============================] - 3s 24us/step - loss: 0.4690 - acc: 0.8217\n",
      "Epoch 2/5\n",
      "144960/144960 [==============================] - 4s 26us/step - loss: 0.4673 - acc: 0.8212\n",
      "Epoch 3/5\n",
      "144960/144960 [==============================] - 4s 25us/step - loss: 0.4659 - acc: 0.8203\n",
      "Epoch 4/5\n",
      "144960/144960 [==============================] - 3s 24us/step - loss: 0.4647 - acc: 0.8194\n",
      "Epoch 5/5\n",
      "144960/144960 [==============================] - 3s 24us/step - loss: 0.4636 - acc: 0.8190\n",
      "144960/144960 [==============================] - 2s 16us/step\n",
      "96640/96640 [==============================] - 1s 15us/step\n",
      "Epoch 1/5\n",
      "169120/169120 [==============================] - 4s 24us/step - loss: 0.4629 - acc: 0.8183\n",
      "Epoch 2/5\n",
      "169120/169120 [==============================] - 4s 24us/step - loss: 0.4615 - acc: 0.8178\n",
      "Epoch 3/5\n",
      "169120/169120 [==============================] - 4s 24us/step - loss: 0.4600 - acc: 0.8181\n",
      "Epoch 4/5\n",
      "169120/169120 [==============================] - 4s 24us/step - loss: 0.4583 - acc: 0.8177\n",
      "Epoch 5/5\n",
      "169120/169120 [==============================] - 4s 24us/step - loss: 0.4564 - acc: 0.8183\n",
      "169120/169120 [==============================] - 3s 16us/step\n",
      "72480/72480 [==============================] - 1s 17us/step\n"
     ]
    }
   ],
   "source": [
    "test_size_list = [0.99,0.90,0.8,0.7,0.6,0.4,0.3]\n",
    "training_set_size=[]\n",
    "train_acc=[]\n",
    "test_acc=[]\n",
    "for test_size in test_size_list:\n",
    "    x_train, x_test, y_train, y_test = train_test_split(x, y, test_size= test_size, random_state=123)\n",
    "    model.fit(x_train,y_train,epochs=5,batch_size=128)\n",
    "    train_acc.append(model.evaluate(x_train,y_train,batch_size=128)[1])\n",
    "    test_acc.append(model.evaluate(x_test,y_test,batch_size=128)[1])\n",
    "    training_set_size.append(len(x_train))"
   ]
  },
  {
   "cell_type": "code",
   "execution_count": 263,
   "metadata": {},
   "outputs": [
    {
     "data": {
      "image/png": "[encoded data removed]",
      "text/plain": [
       "<Figure size 576x432 with 1 Axes>"
      ]
     },
     "metadata": {},
     "output_type": "display_data"
    }
   ],
   "source": [
    "import matplotlib.patches as mpatches\n",
    "plt.figure(figsize=(8,6))\n",
    "plt.style.use('seaborn')\n",
    "plt.plot(training_set_size, train_acc, color = \"blue\") \n",
    "plt.plot(training_set_size, test_acc, color = \"green\") \n",
    "plt.xlabel(\"Training Set\") \n",
    "plt.ylabel(\"Accuracy\")\n",
    "trainlegend = mpatches.Patch(color='blue', label='Train Accuracy')\n",
    "testlegend = mpatches.Patch(color='green', label='Test Accuracy')\n",
    "plt.legend([trainlegend, testlegend], ['Train Accuracy', 'Test Accuracy'])\n",
    "plt.show() "
   ]
  },
  {
   "cell_type": "code",
   "execution_count": 264,
   "metadata": {},
   "outputs": [
    {
     "name": "stdout",
     "output_type": "stream",
     "text": [
      "Epoch 1/2\n",
      "173952/173952 [==============================] - 4s 23us/step - loss: 0.4546 - acc: 0.8186\n",
      "Epoch 2/2\n",
      "173952/173952 [==============================] - 4s 25us/step - loss: 0.4522 - acc: 0.8188\n",
      "43488/43488 [==============================] - 1s 19us/step\n",
      "Epoch 1/2\n",
      "173952/173952 [==============================] - 5s 27us/step - loss: 0.4505 - acc: 0.8190\n",
      "Epoch 2/2\n",
      "173952/173952 [==============================] - 4s 25us/step - loss: 0.4476 - acc: 0.8197\n",
      "43488/43488 [==============================] - 1s 15us/step\n",
      "Epoch 1/2\n",
      "173952/173952 [==============================] - 4s 24us/step - loss: 0.4454 - acc: 0.8199\n",
      "Epoch 2/2\n",
      "173952/173952 [==============================] - 4s 24us/step - loss: 0.4420 - acc: 0.8211\n",
      "43488/43488 [==============================] - 1s 16us/step\n",
      "Epoch 1/2\n",
      "173952/173952 [==============================] - 4s 24us/step - loss: 0.4382 - acc: 0.8224\n",
      "Epoch 2/2\n",
      "173952/173952 [==============================] - 4s 24us/step - loss: 0.4341 - acc: 0.8235\n",
      "43488/43488 [==============================] - 1s 15us/step\n",
      "Epoch 1/2\n",
      "173952/173952 [==============================] - 4s 24us/step - loss: 0.4296 - acc: 0.8250: 1s - \n",
      "Epoch 2/2\n",
      "173952/173952 [==============================] - 4s 24us/step - loss: 0.4251 - acc: 0.8265\n",
      "43488/43488 [==============================] - 1s 17us/step\n",
      "The accuracy of the neural net with sigmoid activation function is 82.24%\n"
     ]
    }
   ],
   "source": [
    "X_train, X_test, y_train, y_test = train_test_split(x, y, test_size= 0.1, random_state=123)\n",
    "val_acc = []\n",
    "kf = KFold(n_splits=5)\n",
    "for train_index, val_index in kf.split(X_train):\n",
    "    model.fit(X_train[train_index], y_train[train_index],epochs=2,batch_size=128)\n",
    "    val_acc.append(model.evaluate(X_train[val_index],y_train[val_index],batch_size=128)[1])\n",
    "accuracy = sum(val_acc)/len(val_acc)*100\n",
    "print(\"The accuracy of the neural net with sigmoid activation function is {0:.2f}%\".format(accuracy))"
   ]
  },
  {
   "cell_type": "code",
   "execution_count": 265,
   "metadata": {},
   "outputs": [],
   "source": [
    "from keras.models import Sequential\n",
    "from keras.layers import Dense, Activation,Flatten\n",
    "model = Sequential()\n",
    "model.add(Dense(128, activation='tanh'))\n",
    "model.add(Dense(2, activation='tanh'))\n",
    "model.compile(optimizer='SGD',\n",
    "              loss='binary_crossentropy',\n",
    "              metrics=['acc'])"
   ]
  },
  {
   "cell_type": "code",
   "execution_count": 266,
   "metadata": {},
   "outputs": [
    {
     "name": "stdout",
     "output_type": "stream",
     "text": [
      "Epoch 1/5\n",
      "2416/2416 [==============================] - 1s 241us/step - loss: 2.9521 - acc: 0.4646\n",
      "Epoch 2/5\n",
      "2416/2416 [==============================] - 0s 34us/step - loss: 2.4355 - acc: 0.5126\n",
      "Epoch 3/5\n",
      "2416/2416 [==============================] - 0s 32us/step - loss: 2.1769 - acc: 0.5503\n",
      "Epoch 4/5\n",
      "2416/2416 [==============================] - 0s 37us/step - loss: 1.9176 - acc: 0.5940\n",
      "Epoch 5/5\n",
      "2416/2416 [==============================] - 0s 29us/step - loss: 1.6934 - acc: 0.6211\n",
      "2416/2416 [==============================] - 0s 202us/step\n",
      "239184/239184 [==============================] - 4s 17us/step\n",
      "Epoch 1/5\n",
      "24160/24160 [==============================] - 1s 27us/step - loss: 1.2447 - acc: 0.6630\n",
      "Epoch 2/5\n",
      "24160/24160 [==============================] - 1s 26us/step - loss: 0.8840 - acc: 0.6935\n",
      "Epoch 3/5\n",
      "24160/24160 [==============================] - 1s 25us/step - loss: 0.8053 - acc: 0.7386\n",
      "Epoch 4/5\n",
      "24160/24160 [==============================] - 1s 26us/step - loss: 0.9884 - acc: 0.6927\n",
      "Epoch 5/5\n",
      "24160/24160 [==============================] - 1s 27us/step - loss: 0.7699 - acc: 0.7492\n",
      "24160/24160 [==============================] - 0s 18us/step\n",
      "217440/217440 [==============================] - 4s 17us/step\n",
      "Epoch 1/5\n",
      "48320/48320 [==============================] - 1s 27us/step - loss: 0.6672 - acc: 0.7219\n",
      "Epoch 2/5\n",
      "48320/48320 [==============================] - 1s 25us/step - loss: 0.5038 - acc: 0.7572\n",
      "Epoch 3/5\n",
      "48320/48320 [==============================] - 1s 24us/step - loss: 0.4676 - acc: 0.7822\n",
      "Epoch 4/5\n",
      "48320/48320 [==============================] - 1s 25us/step - loss: 0.4361 - acc: 0.7944\n",
      "Epoch 5/5\n",
      "48320/48320 [==============================] - 1s 27us/step - loss: 0.4408 - acc: 0.7813\n",
      "48320/48320 [==============================] - 1s 19us/step\n",
      "193280/193280 [==============================] - 3s 17us/step\n",
      "Epoch 1/5\n",
      "72480/72480 [==============================] - 2s 27us/step - loss: 0.5025 - acc: 0.7613\n",
      "Epoch 2/5\n",
      "72480/72480 [==============================] - 2s 29us/step - loss: 0.4285 - acc: 0.7909\n",
      "Epoch 3/5\n",
      "72480/72480 [==============================] - 2s 27us/step - loss: 0.4617 - acc: 0.7668\n",
      "Epoch 4/5\n",
      "72480/72480 [==============================] - 2s 28us/step - loss: 0.7084 - acc: 0.7502\n",
      "Epoch 5/5\n",
      "72480/72480 [==============================] - 2s 25us/step - loss: 0.4623 - acc: 0.7408\n",
      "72480/72480 [==============================] - 1s 17us/step\n",
      "169120/169120 [==============================] - 3s 16us/step\n",
      "Epoch 1/5\n",
      "96640/96640 [==============================] - 2s 23us/step - loss: 0.9308 - acc: 0.7047\n",
      "Epoch 2/5\n",
      "96640/96640 [==============================] - 2s 23us/step - loss: 3.6785 - acc: 0.3967\n",
      "Epoch 3/5\n",
      "96640/96640 [==============================] - 2s 22us/step - loss: 3.1648 - acc: 0.4247\n",
      "Epoch 4/5\n",
      "96640/96640 [==============================] - 2s 23us/step - loss: 3.1402 - acc: 0.4230\n",
      "Epoch 5/5\n",
      "96640/96640 [==============================] - 2s 23us/step - loss: 3.1064 - acc: 0.4246\n",
      "96640/96640 [==============================] - 1s 15us/step\n",
      "144960/144960 [==============================] - 2s 15us/step\n",
      "Epoch 1/5\n",
      "144960/144960 [==============================] - 3s 23us/step - loss: 3.0973 - acc: 0.4207\n",
      "Epoch 2/5\n",
      "144960/144960 [==============================] - 3s 23us/step - loss: 3.0412 - acc: 0.4226\n",
      "Epoch 3/5\n",
      "144960/144960 [==============================] - 3s 23us/step - loss: 2.9371 - acc: 0.4308\n",
      "Epoch 4/5\n",
      "144960/144960 [==============================] - 3s 23us/step - loss: 2.8362 - acc: 0.4326\n",
      "Epoch 5/5\n",
      "144960/144960 [==============================] - 3s 22us/step - loss: 3.2770 - acc: 0.4346\n",
      "144960/144960 [==============================] - 2s 15us/step\n",
      "96640/96640 [==============================] - 1s 15us/step\n",
      "Epoch 1/5\n",
      "169120/169120 [==============================] - 4s 22us/step - loss: 4.4138 - acc: 0.3959\n",
      "Epoch 2/5\n",
      "169120/169120 [==============================] - 4s 22us/step - loss: 4.2190 - acc: 0.4041\n",
      "Epoch 3/5\n",
      "169120/169120 [==============================] - 4s 22us/step - loss: 4.0774 - acc: 0.4079\n",
      "Epoch 4/5\n",
      "169120/169120 [==============================] - 4s 22us/step - loss: 4.0934 - acc: 0.4055\n",
      "Epoch 5/5\n",
      "169120/169120 [==============================] - 4s 22us/step - loss: 3.9845 - acc: 0.4087\n",
      "169120/169120 [==============================] - 2s 14us/step\n",
      "72480/72480 [==============================] - 1s 14us/step\n"
     ]
    }
   ],
   "source": [
    "test_size_list = [0.99,0.90,0.8,0.7,0.6,0.4,0.3]\n",
    "training_set_size=[]\n",
    "train_acc=[]\n",
    "test_acc=[]\n",
    "for test_size in test_size_list:\n",
    "    x_train, x_test, y_train, y_test = train_test_split(x, y, test_size= test_size, random_state=123)\n",
    "    model.fit(x_train,y_train,epochs=5,batch_size=128)\n",
    "    train_acc.append(model.evaluate(x_train,y_train,batch_size=128)[1])\n",
    "    test_acc.append(model.evaluate(x_test,y_test,batch_size=128)[1])\n",
    "    training_set_size.append(len(x_train))"
   ]
  },
  {
   "cell_type": "code",
   "execution_count": 267,
   "metadata": {},
   "outputs": [
    {
     "data": {
      "image/png": "[encoded data removed]",
      "text/plain": [
       "<Figure size 576x432 with 1 Axes>"
      ]
     },
     "metadata": {},
     "output_type": "display_data"
    }
   ],
   "source": [
    "plt.figure(figsize=(8,6))\n",
    "plt.style.use('seaborn')\n",
    "plt.plot(training_set_size, train_acc, color = \"blue\") \n",
    "plt.plot(training_set_size, test_acc, color = \"green\") \n",
    "plt.xlabel(\"Training Set\") \n",
    "plt.ylabel(\"Accuracy\")\n",
    "trainlegend = mpatches.Patch(color='blue', label='Train Accuracy')\n",
    "testlegend = mpatches.Patch(color='green', label='Test Accuracy')\n",
    "plt.legend([trainlegend, testlegend], ['Train Accuracy', 'Test Accuracy'])\n",
    "plt.show() "
   ]
  },
  {
   "cell_type": "code",
   "execution_count": 268,
   "metadata": {},
   "outputs": [
    {
     "name": "stdout",
     "output_type": "stream",
     "text": [
      "Epoch 1/2\n",
      "173952/173952 [==============================] - 4s 25us/step - loss: 3.9742 - acc: 0.4093\n",
      "Epoch 2/2\n",
      "173952/173952 [==============================] - 4s 24us/step - loss: 3.9488 - acc: 0.4117\n",
      "43488/43488 [==============================] - 1s 16us/step\n",
      "Epoch 1/2\n",
      "173952/173952 [==============================] - 4s 26us/step - loss: 4.2157 - acc: 0.4132\n",
      "Epoch 2/2\n",
      "173952/173952 [==============================] - 4s 25us/step - loss: 4.2328 - acc: 0.4055\n",
      "43488/43488 [==============================] - 1s 17us/step\n",
      "Epoch 1/2\n",
      "173952/173952 [==============================] - 4s 25us/step - loss: 4.0935 - acc: 0.4052\n",
      "Epoch 2/2\n",
      "173952/173952 [==============================] - 4s 24us/step - loss: 4.0721 - acc: 0.4027\n",
      "43488/43488 [==============================] - 1s 16us/step\n",
      "Epoch 1/2\n",
      "173952/173952 [==============================] - 4s 24us/step - loss: 3.9629 - acc: 0.4049\n",
      "Epoch 2/2\n",
      "173952/173952 [==============================] - 4s 25us/step - loss: 3.9185 - acc: 0.4053\n",
      "43488/43488 [==============================] - 1s 17us/step\n",
      "Epoch 1/2\n",
      "173952/173952 [==============================] - 4s 24us/step - loss: 2.7847 - acc: 0.4326\n",
      "Epoch 2/2\n",
      "173952/173952 [==============================] - 4s 23us/step - loss: 2.7061 - acc: 0.4346\n",
      "43488/43488 [==============================] - 1s 16us/step\n",
      "The accuracy of the neural net with Tanh activation function is 41.90%\n"
     ]
    }
   ],
   "source": [
    "X_train, X_test, y_train, y_test = train_test_split(x, y, test_size= 0.1, random_state=123)\n",
    "val_acc = []\n",
    "kf = KFold(n_splits=5)\n",
    "for train_index, val_index in kf.split(X_train):\n",
    "    model.fit(X_train[train_index], y_train[train_index],epochs=2,batch_size=128)\n",
    "    val_acc.append(model.evaluate(X_train[val_index],y_train[val_index],batch_size=128)[1])\n",
    "accuracy = sum(val_acc)/len(val_acc)*100\n",
    "print(\"The accuracy of the neural net with Tanh activation function is {0:.2f}%\".format(accuracy))"
   ]
  },
  {
   "cell_type": "code",
   "execution_count": 269,
   "metadata": {},
   "outputs": [],
   "source": [
    "from keras.models import Sequential\n",
    "from keras.layers import Dense, Activation,Flatten\n",
    "model = Sequential()\n",
    "model.add(Dense(128, activation='relu'))\n",
    "model.add(Dense(2, activation='relu'))\n",
    "model.compile(optimizer='SGD',\n",
    "              loss='binary_crossentropy',\n",
    "              metrics=['acc'])"
   ]
  },
  {
   "cell_type": "code",
   "execution_count": 270,
   "metadata": {},
   "outputs": [
    {
     "name": "stdout",
     "output_type": "stream",
     "text": [
      "Epoch 1/5\n",
      "2416/2416 [==============================] - 1s 234us/step - loss: 1.4933 - acc: 0.5969\n",
      "Epoch 2/5\n",
      "2416/2416 [==============================] - 0s 31us/step - loss: 0.7026 - acc: 0.6672\n",
      "Epoch 3/5\n",
      "2416/2416 [==============================] - 0s 35us/step - loss: 2.0023 - acc: 0.6562\n",
      "Epoch 4/5\n",
      "2416/2416 [==============================] - 0s 30us/step - loss: 2.6693 - acc: 0.6279\n",
      "Epoch 5/5\n",
      "2416/2416 [==============================] - 0s 33us/step - loss: 2.1685 - acc: 0.6445\n",
      "2416/2416 [==============================] - 0s 202us/step\n",
      "239184/239184 [==============================] - 4s 17us/step\n",
      "Epoch 1/5\n",
      "24160/24160 [==============================] - 1s 27us/step - loss: 1.4431 - acc: 0.6680\n",
      "Epoch 2/5\n",
      "24160/24160 [==============================] - 1s 28us/step - loss: 0.8143 - acc: 0.7382\n",
      "Epoch 3/5\n",
      "24160/24160 [==============================] - 1s 26us/step - loss: 0.4739 - acc: 0.7696\n",
      "Epoch 4/5\n",
      "24160/24160 [==============================] - 1s 25us/step - loss: 0.3742 - acc: 0.8019\n",
      "Epoch 5/5\n",
      "24160/24160 [==============================] - 1s 25us/step - loss: 0.3386 - acc: 0.8010\n",
      "24160/24160 [==============================] - 0s 16us/step\n",
      "217440/217440 [==============================] - 4s 17us/step\n",
      "Epoch 1/5\n",
      "48320/48320 [==============================] - 1s 27us/step - loss: 0.3112 - acc: 0.8007\n",
      "Epoch 2/5\n",
      "48320/48320 [==============================] - 1s 26us/step - loss: 0.2917 - acc: 0.8041\n",
      "Epoch 3/5\n",
      "48320/48320 [==============================] - 1s 27us/step - loss: 0.3592 - acc: 0.7881\n",
      "Epoch 4/5\n",
      "48320/48320 [==============================] - 1s 28us/step - loss: 0.3182 - acc: 0.7943\n",
      "Epoch 5/5\n",
      "48320/48320 [==============================] - 1s 30us/step - loss: 0.5164 - acc: 0.7512\n",
      "48320/48320 [==============================] - 1s 19us/step\n",
      "193280/193280 [==============================] - 3s 17us/step\n",
      "Epoch 1/5\n",
      "72480/72480 [==============================] - 2s 25us/step - loss: 2.4170 - acc: 0.6132\n",
      "Epoch 2/5\n",
      "72480/72480 [==============================] - 2s 24us/step - loss: 6.9056 - acc: 0.0713\n",
      "Epoch 3/5\n",
      "72480/72480 [==============================] - 2s 24us/step - loss: 6.3708 - acc: 0.0962\n",
      "Epoch 4/5\n",
      "72480/72480 [==============================] - 2s 24us/step - loss: 5.7327 - acc: 0.1520\n",
      "Epoch 5/5\n",
      "72480/72480 [==============================] - 2s 24us/step - loss: 5.4461 - acc: 0.1717\n",
      "72480/72480 [==============================] - 1s 17us/step\n",
      "169120/169120 [==============================] - 3s 19us/step\n",
      "Epoch 1/5\n",
      "96640/96640 [==============================] - 3s 29us/step - loss: 5.3442 - acc: 0.1657\n",
      "Epoch 2/5\n",
      "96640/96640 [==============================] - 3s 28us/step - loss: 5.2528 - acc: 0.1929\n",
      "Epoch 3/5\n",
      "96640/96640 [==============================] - 3s 27us/step - loss: 5.3759 - acc: 0.1830\n",
      "Epoch 4/5\n",
      "96640/96640 [==============================] - 2s 25us/step - loss: 5.1042 - acc: 0.1999\n",
      "Epoch 5/5\n",
      "96640/96640 [==============================] - 3s 27us/step - loss: 5.0340 - acc: 0.2006\n",
      "96640/96640 [==============================] - 2s 17us/step\n",
      "144960/144960 [==============================] - 2s 16us/step\n",
      "Epoch 1/5\n",
      "144960/144960 [==============================] - 4s 25us/step - loss: 4.9123 - acc: 0.2005\n",
      "Epoch 2/5\n",
      "144960/144960 [==============================] - 4s 27us/step - loss: 4.8905 - acc: 0.1980\n",
      "Epoch 3/5\n",
      "144960/144960 [==============================] - 3s 22us/step - loss: 5.1348 - acc: 0.1863\n",
      "Epoch 4/5\n",
      "144960/144960 [==============================] - 3s 22us/step - loss: 4.9374 - acc: 0.1955\n",
      "Epoch 5/5\n",
      "144960/144960 [==============================] - 3s 23us/step - loss: 4.8676 - acc: 0.1948\n",
      "144960/144960 [==============================] - 2s 15us/step\n",
      "96640/96640 [==============================] - 1s 15us/step\n",
      "Epoch 1/5\n",
      "169120/169120 [==============================] - 4s 22us/step - loss: 5.3463 - acc: 0.1991\n",
      "Epoch 2/5\n",
      "169120/169120 [==============================] - 4s 23us/step - loss: 6.9287 - acc: 0.2105\n",
      "Epoch 3/5\n",
      "169120/169120 [==============================] - 4s 23us/step - loss: 6.6890 - acc: 0.2076\n",
      "Epoch 4/5\n",
      "169120/169120 [==============================] - 4s 22us/step - loss: 6.3379 - acc: 0.2002\n",
      "Epoch 5/5\n",
      "169120/169120 [==============================] - 4s 22us/step - loss: 5.9934 - acc: 0.1971\n",
      "169120/169120 [==============================] - 3s 15us/step\n",
      "72480/72480 [==============================] - 1s 15us/step\n"
     ]
    }
   ],
   "source": [
    "test_size_list = [0.99,0.90,0.8,0.7,0.6,0.4,0.3]\n",
    "training_set_size=[]\n",
    "train_acc=[]\n",
    "test_acc=[]\n",
    "for test_size in test_size_list:\n",
    "    x_train, x_test, y_train, y_test = train_test_split(x, y, test_size= test_size, random_state=123)\n",
    "    model.fit(x_train,y_train,epochs=5,batch_size=128)\n",
    "    train_acc.append(model.evaluate(x_train,y_train,batch_size=128)[1])\n",
    "    test_acc.append(model.evaluate(x_test,y_test,batch_size=128)[1])\n",
    "    training_set_size.append(len(x_train))"
   ]
  },
  {
   "cell_type": "code",
   "execution_count": 271,
   "metadata": {},
   "outputs": [
    {
     "data": {
      "image/png": "[encoded data removed]",
      "text/plain": [
       "<Figure size 576x432 with 1 Axes>"
      ]
     },
     "metadata": {},
     "output_type": "display_data"
    }
   ],
   "source": [
    "plt.figure(figsize=(8,6))\n",
    "plt.style.use('seaborn')\n",
    "plt.plot(training_set_size, train_acc, color = \"blue\") \n",
    "plt.plot(training_set_size, test_acc, color = \"green\") \n",
    "plt.xlabel(\"Training Set\") \n",
    "plt.ylabel(\"Accuracy\")\n",
    "trainlegend = mpatches.Patch(color='blue', label='Train Accuracy')\n",
    "testlegend = mpatches.Patch(color='green', label='Test Accuracy')\n",
    "plt.legend([trainlegend, testlegend], ['Train Accuracy', 'Test Accuracy'])\n",
    "plt.show() "
   ]
  },
  {
   "cell_type": "code",
   "execution_count": 272,
   "metadata": {},
   "outputs": [
    {
     "name": "stdout",
     "output_type": "stream",
     "text": [
      "Epoch 1/2\n",
      "173952/173952 [==============================] - 5s 26us/step - loss: 5.8186 - acc: 0.2019\n",
      "Epoch 2/2\n",
      "173952/173952 [==============================] - 4s 25us/step - loss: 5.5824 - acc: 0.1995\n",
      "43488/43488 [==============================] - 1s 21us/step\n",
      "Epoch 1/2\n",
      "173952/173952 [==============================] - 4s 25us/step - loss: 5.1914 - acc: 0.1943\n",
      "Epoch 2/2\n",
      "173952/173952 [==============================] - 4s 25us/step - loss: 5.1183 - acc: 0.1964\n",
      "43488/43488 [==============================] - 1s 17us/step\n",
      "Epoch 1/2\n",
      "173952/173952 [==============================] - 4s 25us/step - loss: 5.0284 - acc: 0.1944\n",
      "Epoch 2/2\n",
      "173952/173952 [==============================] - 5s 27us/step - loss: 4.9681 - acc: 0.1905\n",
      "43488/43488 [==============================] - 1s 23us/step\n",
      "Epoch 1/2\n",
      "173952/173952 [==============================] - 5s 26us/step - loss: 4.9175 - acc: 0.1888\n",
      "Epoch 2/2\n",
      "173952/173952 [==============================] - 4s 24us/step - loss: 4.8955 - acc: 0.1904\n",
      "43488/43488 [==============================] - 1s 17us/step\n",
      "Epoch 1/2\n",
      "173952/173952 [==============================] - 5s 27us/step - loss: 4.8871 - acc: 0.1881\n",
      "Epoch 2/2\n",
      "173952/173952 [==============================] - 4s 25us/step - loss: 4.8513 - acc: 0.1900\n",
      "43488/43488 [==============================] - 1s 20us/step\n",
      "The accuracy of the neural net with Relu activation function is 19.11%\n"
     ]
    }
   ],
   "source": [
    "X_train, X_test, y_train, y_test = train_test_split(x, y, test_size= 0.1, random_state=123)\n",
    "val_acc = []\n",
    "kf = KFold(n_splits=5)\n",
    "for train_index, val_index in kf.split(X_train):\n",
    "    model.fit(X_train[train_index], y_train[train_index],epochs=2,batch_size=128)\n",
    "    val_acc.append(model.evaluate(X_train[val_index],y_train[val_index],batch_size=128)[1])\n",
    "accuracy = sum(val_acc)/len(val_acc)*100\n",
    "print(\"The accuracy of the neural net with Relu activation function is {0:.2f}%\".format(accuracy))"
   ]
  },
  {
   "cell_type": "code",
   "execution_count": 273,
   "metadata": {},
   "outputs": [
    {
     "name": "stdout",
     "output_type": "stream",
     "text": [
      "Epoch 1/5\n",
      "169120/169120 [==============================] - 14s 84us/step - loss: 0.5944 - acc: 0.7253\n",
      "Epoch 2/5\n",
      "169120/169120 [==============================] - 14s 81us/step - loss: 0.4583 - acc: 0.8253\n",
      "Epoch 3/5\n",
      "169120/169120 [==============================] - 13s 77us/step - loss: 0.4182 - acc: 0.8397\n",
      "Epoch 4/5\n",
      "169120/169120 [==============================] - 13s 79us/step - loss: 0.3989 - acc: 0.8447\n",
      "Epoch 5/5\n",
      "169120/169120 [==============================] - 14s 81us/step - loss: 0.3830 - acc: 0.8485\n",
      "169120/169120 [==============================] - 11s 64us/step\n",
      "72480/72480 [==============================] - 4s 60us/step\n",
      "Epoch 1/5\n",
      "169120/169120 [==============================] - 21s 126us/step - loss: 0.6034 - acc: 0.8044\n",
      "Epoch 2/5\n",
      "169120/169120 [==============================] - 18s 104us/step - loss: 0.4009 - acc: 0.8515\n",
      "Epoch 3/5\n",
      "169120/169120 [==============================] - 14s 85us/step - loss: 0.3577 - acc: 0.8528\n",
      "Epoch 4/5\n",
      "169120/169120 [==============================] - 16s 92us/step - loss: 0.3456 - acc: 0.8559\n",
      "Epoch 5/5\n",
      "169120/169120 [==============================] - 15s 87us/step - loss: 0.3352 - acc: 0.8595\n",
      "169120/169120 [==============================] - 10s 60us/step\n",
      "72480/72480 [==============================] - 4s 57us/step\n",
      "Epoch 1/5\n",
      "169120/169120 [==============================] - 14s 83us/step - loss: 0.5415 - acc: 0.8480\n",
      "Epoch 2/5\n",
      "169120/169120 [==============================] - 14s 85us/step - loss: 0.3532 - acc: 0.8651\n",
      "Epoch 3/5\n",
      "169120/169120 [==============================] - 14s 85us/step - loss: 0.3162 - acc: 0.8707\n",
      "Epoch 4/5\n",
      "169120/169120 [==============================] - 13s 79us/step - loss: 0.2828 - acc: 0.8840\n",
      "Epoch 5/5\n",
      "169120/169120 [==============================] - 14s 84us/step - loss: 0.2597 - acc: 0.8967\n",
      "169120/169120 [==============================] - 9s 54us/step\n",
      "72480/72480 [==============================] - 4s 52us/step\n",
      "Epoch 1/5\n",
      "169120/169120 [==============================] - 16s 92us/step - loss: 0.4881 - acc: 0.8749\n",
      "Epoch 2/5\n",
      "169120/169120 [==============================] - 14s 86us/step - loss: 0.2672 - acc: 0.9104\n",
      "Epoch 3/5\n",
      "169120/169120 [==============================] - 15s 86us/step - loss: 0.2420 - acc: 0.9143\n",
      "Epoch 4/5\n",
      "169120/169120 [==============================] - 14s 86us/step - loss: 0.2319 - acc: 0.9171\n",
      "Epoch 5/5\n",
      "169120/169120 [==============================] - 15s 91us/step - loss: 0.2252 - acc: 0.9182\n",
      "169120/169120 [==============================] - 11s 65us/step\n",
      "72480/72480 [==============================] - 5s 63us/step\n",
      "Epoch 1/5\n",
      "169120/169120 [==============================] - 18s 105us/step - loss: 0.4412 - acc: 0.9068\n",
      "Epoch 2/5\n",
      "169120/169120 [==============================] - 17s 100us/step - loss: 0.2393 - acc: 0.9216\n",
      "Epoch 3/5\n",
      "169120/169120 [==============================] - 17s 102us/step - loss: 0.2219 - acc: 0.9237\n",
      "Epoch 4/5\n",
      "169120/169120 [==============================] - 16s 97us/step - loss: 0.2153 - acc: 0.9247\n",
      "Epoch 5/5\n",
      "169120/169120 [==============================] - 17s 100us/step - loss: 0.2117 - acc: 0.9247\n",
      "169120/169120 [==============================] - 11s 66us/step\n",
      "72480/72480 [==============================] - 5s 68us/step\n",
      "Epoch 1/5\n",
      "169120/169120 [==============================] - 19s 112us/step - loss: 0.4287 - acc: 0.9039\n",
      "Epoch 2/5\n",
      "169120/169120 [==============================] - 18s 109us/step - loss: 0.2298 - acc: 0.9266\n",
      "Epoch 3/5\n",
      "169120/169120 [==============================] - 18s 108us/step - loss: 0.2157 - acc: 0.9271\n",
      "Epoch 4/5\n",
      "169120/169120 [==============================] - 19s 113us/step - loss: 0.2092 - acc: 0.9283\n",
      "Epoch 5/5\n",
      "169120/169120 [==============================] - 18s 108us/step - loss: 0.2049 - acc: 0.9292\n",
      "169120/169120 [==============================] - 12s 70us/step\n",
      "72480/72480 [==============================] - 6s 86us/step\n"
     ]
    }
   ],
   "source": [
    "x_train, x_test, y_train, y_test = train_test_split(x, y, test_size= 0.3, random_state=123)\n",
    "nodes_list=[8,16,32,64,128,256]\n",
    "train_acc = []\n",
    "test_acc = []\n",
    "model = Sequential()\n",
    "for i in nodes_list:\n",
    "    model.add(Dense(i, activation='sigmoid'))\n",
    "    model.add(Dense(2, activation='sigmoid'))\n",
    "    model.compile(optimizer='SGD', loss='binary_crossentropy', metrics=['acc'])\n",
    "    model.fit(x_train,y_train,epochs=5)\n",
    "    train_acc.append(model.evaluate(x_train,y_train)[1])\n",
    "    test_acc.append(model.evaluate(x_test,y_test)[1])"
   ]
  },
  {
   "cell_type": "code",
   "execution_count": 274,
   "metadata": {},
   "outputs": [
    {
     "data": {
      "image/png": "[encoded data removed]",
      "text/plain": [
       "<Figure size 576x432 with 1 Axes>"
      ]
     },
     "metadata": {},
     "output_type": "display_data"
    }
   ],
   "source": [
    "plt.figure(figsize=(8,6))\n",
    "plt.style.use('seaborn')\n",
    "plt.plot(nodes_list, train_acc, color = \"blue\") \n",
    "plt.plot(nodes_list, test_acc, color = \"green\") \n",
    "plt.xlabel(\"Number of nodes\") \n",
    "plt.ylabel(\"Accuracy\")\n",
    "trainlegend = mpatches.Patch(color='blue', label='Train Accuracy')\n",
    "testlegend = mpatches.Patch(color='green', label='Test Accuracy')\n",
    "plt.legend([trainlegend, testlegend], ['Train Accuracy', 'Test Accuracy'])\n",
    "plt.show() "
   ]
  },
  {
   "cell_type": "code",
   "execution_count": 275,
   "metadata": {},
   "outputs": [
    {
     "name": "stdout",
     "output_type": "stream",
     "text": [
      "Epoch 1/5\n",
      "169120/169120 [==============================] - 15s 91us/step - loss: 0.5583 - acc: 0.7737 \n",
      "Epoch 2/5\n",
      "169120/169120 [==============================] - ETA: 0s - loss: 0.4778 - acc: 0.821 - 15s 88us/step - loss: 0.4779 - acc: 0.8216\n",
      "Epoch 3/5\n",
      "169120/169120 [==============================] - 15s 90us/step - loss: 0.4674 - acc: 0.8185\n",
      "Epoch 4/5\n",
      "169120/169120 [==============================] - 15s 89us/step - loss: 0.4614 - acc: 0.8171\n",
      "Epoch 5/5\n",
      "169120/169120 [==============================] - 15s 88us/step - loss: 0.4528 - acc: 0.8186\n",
      "169120/169120 [==============================] - 11s 63us/step\n",
      "72480/72480 [==============================] - 4s 60us/step\n",
      "Epoch 1/5\n",
      "169120/169120 [==============================] - 20s 116us/step - loss: 0.6551 - acc: 0.6996\n",
      "Epoch 2/5\n",
      "169120/169120 [==============================] - 19s 111us/step - loss: 0.5165 - acc: 0.8080\n",
      "Epoch 3/5\n",
      "169120/169120 [==============================] - 19s 110us/step - loss: 0.4632 - acc: 0.8260\n",
      "Epoch 4/5\n",
      "169120/169120 [==============================] - 20s 115us/step - loss: 0.4480 - acc: 0.8275\n",
      "Epoch 5/5\n",
      "169120/169120 [==============================] - 19s 115us/step - loss: 0.4358 - acc: 0.8314\n",
      "169120/169120 [==============================] - 13s 77us/step\n",
      "72480/72480 [==============================] - 5s 75us/step\n",
      "Epoch 1/5\n",
      "169120/169120 [==============================] - 25s 145us/step - loss: 0.6913 - acc: 0.5369\n",
      "Epoch 2/5\n",
      "169120/169120 [==============================] - 24s 142us/step - loss: 0.6810 - acc: 0.6402\n",
      "Epoch 3/5\n",
      "169120/169120 [==============================] - 25s 148us/step - loss: 0.6154 - acc: 0.7609\n",
      "Epoch 4/5\n",
      "169120/169120 [==============================] - 32s 187us/step - loss: 0.4837 - acc: 0.8142\n",
      "Epoch 5/5\n",
      "169120/169120 [==============================] - 25s 145us/step - loss: 0.4424 - acc: 0.8327\n",
      "169120/169120 [==============================] - 15s 88us/step\n",
      "72480/72480 [==============================] - 6s 85us/step\n",
      "Epoch 1/5\n",
      "169120/169120 [==============================] - 29s 170us/step - loss: 0.6933 - acc: 0.5060\n",
      "Epoch 2/5\n",
      "169120/169120 [==============================] - 28s 167us/step - loss: 0.6927 - acc: 0.5125\n",
      "Epoch 3/5\n",
      "169120/169120 [==============================] - 29s 171us/step - loss: 0.6918 - acc: 0.5234\n",
      "Epoch 4/5\n",
      "169120/169120 [==============================] - 26s 154us/step - loss: 0.6903 - acc: 0.5446\n",
      "Epoch 5/5\n",
      "169120/169120 [==============================] - 27s 158us/step - loss: 0.6865 - acc: 0.5935\n",
      "169120/169120 [==============================] - 15s 87us/step\n",
      "72480/72480 [==============================] - 6s 86us/step\n",
      "Epoch 1/5\n",
      "169120/169120 [==============================] - 31s 181us/step - loss: 0.6935 - acc: 0.4991\n",
      "Epoch 2/5\n",
      "169120/169120 [==============================] - 30s 177us/step - loss: 0.6935 - acc: 0.5005\n",
      "Epoch 3/5\n",
      "169120/169120 [==============================] - 29s 172us/step - loss: 0.6934 - acc: 0.5021\n",
      "Epoch 4/5\n",
      "169120/169120 [==============================] - 31s 183us/step - loss: 0.6934 - acc: 0.5013\n",
      "Epoch 5/5\n",
      "169120/169120 [==============================] - 29s 172us/step - loss: 0.6934 - acc: 0.5027\n",
      "169120/169120 [==============================] - 16s 96us/step\n",
      "72480/72480 [==============================] - 7s 95us/step\n"
     ]
    }
   ],
   "source": [
    "x_train, x_test, y_train, y_test = train_test_split(x, y, test_size= 0.3, random_state=123)\n",
    "layers_list=[1,2,3,4,5]\n",
    "train_acc = []\n",
    "test_acc = []\n",
    "for i in layers_list:\n",
    "    model = Sequential()\n",
    "    for l in range(i):\n",
    "        model.add(Dense(128, activation='sigmoid'))\n",
    "    model.add(Dense(2, activation='sigmoid'))\n",
    "    model.compile(optimizer='SGD', loss='binary_crossentropy', metrics=['acc'])\n",
    "    model.fit(x_train,y_train,epochs=5)\n",
    "    train_acc.append(model.evaluate(x_train,y_train)[1])\n",
    "    test_acc.append(model.evaluate(x_test,y_test)[1])"
   ]
  },
  {
   "cell_type": "code",
   "execution_count": 276,
   "metadata": {},
   "outputs": [
    {
     "data": {
      "image/png": "[encoded data removed]",
      "text/plain": [
       "<Figure size 576x432 with 1 Axes>"
      ]
     },
     "metadata": {},
     "output_type": "display_data"
    }
   ],
   "source": [
    "plt.figure(figsize=(8,6))\n",
    "plt.style.use('seaborn')\n",
    "plt.plot(layers_list, train_acc, color = \"blue\") \n",
    "plt.plot(layers_list, test_acc, color = \"green\") \n",
    "plt.xlabel(\"Number of hidden layers\") \n",
    "plt.ylabel(\"Accuracy\")\n",
    "trainlegend = mpatches.Patch(color='blue', label='Train Accuracy')\n",
    "testlegend = mpatches.Patch(color='green', label='Test Accuracy')\n",
    "plt.legend([trainlegend, testlegend], ['Train Accuracy', 'Test Accuracy'])\n",
    "plt.show() "
   ]
  },
  {
   "cell_type": "code",
   "execution_count": 283,
   "metadata": {},
   "outputs": [],
   "source": [
    "from sklearn.neighbors import KNeighborsClassifier\n",
    "\n",
    "x_train, x_test, y_train, y_test = train_test_split(x, y, test_size= 0.3, random_state=123)\n",
    "neighbours_list=[1,2,3,4,5,7,10,15]\n",
    "train_acc = []\n",
    "test_acc = []\n",
    "for i in neighbours_list:\n",
    "    knnmodel = KNeighborsClassifier(n_neighbors=i)\n",
    "    knnmodel.fit(x_train,y_train)\n",
    "    train_acc.append(knnmodel.score(x_train,y_train))\n",
    "    test_acc.append(knnmodel.score(x_test,y_test))"
   ]
  },
  {
   "cell_type": "code",
   "execution_count": 284,
   "metadata": {},
   "outputs": [
    {
     "data": {
      "image/png": "[encoded data removed]",
      "text/plain": [
       "<Figure size 576x432 with 1 Axes>"
      ]
     },
     "metadata": {},
     "output_type": "display_data"
    }
   ],
   "source": [
    "plt.figure(figsize=(8,6))\n",
    "plt.style.use('seaborn')\n",
    "plt.plot(neighbours_list, train_acc, color = \"blue\") \n",
    "plt.plot(neighbours_list, test_acc, color = \"green\") \n",
    "plt.xlabel(\"Number nearest neighbours\") \n",
    "plt.ylabel(\"Accuracy\")\n",
    "trainlegend = mpatches.Patch(color='blue', label='Train Accuracy')\n",
    "testlegend = mpatches.Patch(color='green', label='Test Accuracy')\n",
    "plt.legend([trainlegend, testlegend], ['Train Accuracy', 'Test Accuracy'])\n",
    "plt.show() "
   ]
  },
  {
   "cell_type": "code",
   "execution_count": null,
   "metadata": {},
   "outputs": [],
   "source": []
  }
 ],
 "metadata": {
  "kernelspec": {
   "display_name": "Python 3",
   "language": "python",
   "name": "python3"
  },
  "language_info": {
   "codemirror_mode": {
    "name": "ipython",
    "version": 3
   },
   "file_extension": ".py",
   "mimetype": "text/x-python",
   "name": "python",
   "nbconvert_exporter": "python",
   "pygments_lexer": "ipython3",
   "version": "3.7.3"
  }
 },
 "nbformat": 4,
 "nbformat_minor": 2
}
